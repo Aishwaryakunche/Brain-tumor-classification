{
  "cells": [
    {
      "cell_type": "code",
      "execution_count": null,
      "id": "98716dc8-16b8-4860-a5ac-e112ae374fa8",
      "metadata": {
        "id": "98716dc8-16b8-4860-a5ac-e112ae374fa8"
      },
      "outputs": [],
      "source": [
        "import os\n",
        "import torch\n",
        "import torch.nn as nn\n",
        "import torch.optim as optim\n",
        "import torchvision\n",
        "from torchvision import datasets, models, transforms\n",
        "from torch.utils.data import DataLoader\n",
        "import time\n",
        "import copy\n",
        "import matplotlib.pyplot as plt\n",
        "from sklearn.metrics import f1_score"
      ]
    },
    {
      "cell_type": "code",
      "execution_count": null,
      "id": "b66e09da-405c-4099-afe1-f645cc28a109",
      "metadata": {
        "id": "b66e09da-405c-4099-afe1-f645cc28a109",
        "outputId": "77ef2e1a-8443-4ae4-e8ba-8fd1f69d4863"
      },
      "outputs": [
        {
          "name": "stdout",
          "output_type": "stream",
          "text": [
            "Using device: cpu\n"
          ]
        }
      ],
      "source": [
        "device = torch.device(\"cuda\" if torch.cuda.is_available() else \"cpu\")\n",
        "print(f\"Using device: {device}\")"
      ]
    },
    {
      "cell_type": "code",
      "execution_count": null,
      "id": "e36721b9-eaca-4b62-bacf-bcaa01db141a",
      "metadata": {
        "id": "e36721b9-eaca-4b62-bacf-bcaa01db141a"
      },
      "outputs": [],
      "source": [
        "data_transforms = {\n",
        "    'train': transforms.Compose([\n",
        "        transforms.Grayscale(num_output_channels=3),  # Converting grayscale image to RGB\n",
        "        transforms.Resize((224, 224)),  # Resizeing images to 224x224\n",
        "        transforms.ToTensor(),  # Converting image to tensor\n",
        "        transforms.Normalize(mean=[0.485, 0.456, 0.406], std=[0.229, 0.224, 0.225]),  #Normalization of VGG mean/std\n",
        "    ]),\n",
        "    'val': transforms.Compose([\n",
        "        transforms.Grayscale(num_output_channels=3),\n",
        "        transforms.Resize((224, 224)),\n",
        "        transforms.ToTensor(),\n",
        "        transforms.Normalize(mean=[0.485, 0.456, 0.406], std=[0.229, 0.224, 0.225]),\n",
        "    ]),\n",
        "}"
      ]
    },
    {
      "cell_type": "code",
      "execution_count": null,
      "id": "0e1d19eb-5056-4e7b-8ccc-3a077846cdd9",
      "metadata": {
        "id": "0e1d19eb-5056-4e7b-8ccc-3a077846cdd9"
      },
      "outputs": [],
      "source": [
        "data_dir = r\"C:\\Users\\Intel6\\Downloads\\DL project_aug1\\DL project\"\n",
        "train_dir = os.path.join(data_dir, 'training')\n",
        "val_dir = os.path.join(data_dir, 'testing')"
      ]
    },
    {
      "cell_type": "code",
      "execution_count": null,
      "id": "ec090c29-ab79-434d-8c3c-425070eea391",
      "metadata": {
        "id": "ec090c29-ab79-434d-8c3c-425070eea391"
      },
      "outputs": [],
      "source": [
        "image_datasets = {\n",
        "    'train': datasets.ImageFolder(train_dir, data_transforms['train']),\n",
        "    'val': datasets.ImageFolder(val_dir, data_transforms['val']),\n",
        "}"
      ]
    },
    {
      "cell_type": "code",
      "execution_count": null,
      "id": "ed3c2ee4-bccc-4814-bc5e-903ad754b2b8",
      "metadata": {
        "id": "ed3c2ee4-bccc-4814-bc5e-903ad754b2b8"
      },
      "outputs": [],
      "source": [
        "batch_size = 32\n",
        "dataloaders = {\n",
        "    'train': DataLoader(image_datasets['train'], batch_size=batch_size, shuffle=True),\n",
        "    'val': DataLoader(image_datasets['val'], batch_size=batch_size, shuffle=False),\n",
        "}\n"
      ]
    },
    {
      "cell_type": "code",
      "execution_count": null,
      "id": "79727df7-71a7-41a6-a817-d24d522d71ce",
      "metadata": {
        "id": "79727df7-71a7-41a6-a817-d24d522d71ce"
      },
      "outputs": [],
      "source": [
        "num_classes = len(image_datasets['train'].classes)\n"
      ]
    },
    {
      "cell_type": "code",
      "execution_count": null,
      "id": "58192b62-50fc-4eb8-bb6c-25c7e31670e7",
      "metadata": {
        "id": "58192b62-50fc-4eb8-bb6c-25c7e31670e7",
        "outputId": "58ca10a0-7d75-496e-b5f1-95b3297a2187"
      },
      "outputs": [
        {
          "name": "stderr",
          "output_type": "stream",
          "text": [
            "C:\\Users\\Intel6\\AppData\\Roaming\\Python\\Python311\\site-packages\\torchvision\\models\\_utils.py:208: UserWarning: The parameter 'pretrained' is deprecated since 0.13 and may be removed in the future, please use 'weights' instead.\n",
            "  warnings.warn(\n",
            "C:\\Users\\Intel6\\AppData\\Roaming\\Python\\Python311\\site-packages\\torchvision\\models\\_utils.py:223: UserWarning: Arguments other than a weight enum or `None` for 'weights' are deprecated since 0.13 and may be removed in the future. The current behavior is equivalent to passing `weights=None`.\n",
            "  warnings.warn(msg)\n"
          ]
        },
        {
          "name": "stdout",
          "output_type": "stream",
          "text": [
            "Number of training images: 2870\n",
            "Number of validation images: 394\n"
          ]
        }
      ],
      "source": [
        "model = models.vgg19(pretrained=False)  # Set the pretrained=False to train from scratch\n",
        "print(f\"Number of training images: {len(image_datasets['train'])}\")\n",
        "print(f\"Number of validation images: {len(image_datasets['val'])}\")\n"
      ]
    },
    {
      "cell_type": "code",
      "execution_count": null,
      "id": "a2554972-1070-49fe-838f-5af154bbf3e8",
      "metadata": {
        "id": "a2554972-1070-49fe-838f-5af154bbf3e8"
      },
      "outputs": [],
      "source": [
        "for param in model.parameters():\n",
        "    param.requires_grad = True\n",
        "\n",
        "model.classifier[6] = nn.Linear(model.classifier[6].in_features, num_classes) # Modifying the classifier for the specific task\n",
        "model = model.to(device) # Moving model to the selected device GPU or CPU\n",
        "\n",
        "criterion = nn.CrossEntropyLoss() # Define the loss function\n",
        "optimizer = optim.Adam(model.classifier.parameters(), lr=0.001) #optiizer\n",
        "\n",
        "num_epochs = 20 # Setting the number of epochs at 20 for training\n",
        "train_loss_history = [] # Initialize the lists to track loss values for plotting\n",
        "val_loss_history = []"
      ]
    },
    {
      "cell_type": "code",
      "execution_count": null,
      "id": "a712a2f5-9fc3-4db6-ad05-999d88eee74a",
      "metadata": {
        "id": "a712a2f5-9fc3-4db6-ad05-999d88eee74a",
        "outputId": "74db4b50-f040-4e9a-f43d-8504fd5110f8"
      },
      "outputs": [
        {
          "name": "stdout",
          "output_type": "stream",
          "text": [
            "Epoch 1/20\n",
            "----------\n",
            "train Loss: 1.8531 Acc: 0.3084 F1: 0.3004\n",
            "val Loss: 1.3577 Acc: 0.3579 F1: 0.2962\n",
            "\n",
            "Epoch 2/20\n",
            "----------\n",
            "train Loss: 1.2560 Acc: 0.3822 F1: 0.3808\n",
            "val Loss: 1.3978 Acc: 0.4010 F1: 0.3449\n",
            "\n",
            "Epoch 3/20\n",
            "----------\n",
            "train Loss: 1.2183 Acc: 0.4049 F1: 0.4055\n",
            "val Loss: 1.3330 Acc: 0.4391 F1: 0.4060\n",
            "\n",
            "Epoch 4/20\n",
            "----------\n",
            "train Loss: 1.1896 Acc: 0.4056 F1: 0.4000\n",
            "val Loss: 1.4925 Acc: 0.3223 F1: 0.3055\n",
            "\n",
            "Epoch 5/20\n",
            "----------\n",
            "train Loss: 1.2056 Acc: 0.4317 F1: 0.3857\n",
            "val Loss: 1.4175 Acc: 0.4061 F1: 0.3935\n",
            "\n",
            "Epoch 6/20\n",
            "----------\n",
            "train Loss: 1.2964 Acc: 0.3348 F1: 0.2858\n",
            "val Loss: 1.4252 Acc: 0.3503 F1: 0.3129\n",
            "\n",
            "Epoch 7/20\n",
            "----------\n",
            "train Loss: 1.2734 Acc: 0.3449 F1: 0.3048\n",
            "val Loss: 1.4492 Acc: 0.3883 F1: 0.3588\n",
            "\n",
            "Epoch 8/20\n",
            "----------\n",
            "train Loss: 1.2784 Acc: 0.3348 F1: 0.2791\n",
            "val Loss: 1.4833 Acc: 0.4036 F1: 0.3699\n",
            "\n",
            "Epoch 9/20\n",
            "----------\n",
            "train Loss: 1.2882 Acc: 0.3338 F1: 0.2867\n",
            "val Loss: 1.4457 Acc: 0.3299 F1: 0.2965\n",
            "\n",
            "Epoch 10/20\n",
            "----------\n",
            "train Loss: 1.2698 Acc: 0.3387 F1: 0.3255\n",
            "val Loss: 1.6019 Acc: 0.3629 F1: 0.3130\n",
            "\n",
            "Epoch 11/20\n",
            "----------\n",
            "train Loss: 1.2472 Acc: 0.3648 F1: 0.3454\n",
            "val Loss: 1.8025 Acc: 0.3020 F1: 0.2469\n",
            "\n",
            "Epoch 12/20\n",
            "----------\n",
            "train Loss: 1.2616 Acc: 0.3589 F1: 0.3218\n",
            "val Loss: 1.5057 Acc: 0.3604 F1: 0.2324\n",
            "\n",
            "Epoch 13/20\n",
            "----------\n",
            "train Loss: 1.2512 Acc: 0.3596 F1: 0.3398\n",
            "val Loss: 1.5940 Acc: 0.3553 F1: 0.3017\n",
            "\n",
            "Epoch 14/20\n",
            "----------\n",
            "train Loss: 1.2889 Acc: 0.3387 F1: 0.3014\n",
            "val Loss: 1.4598 Acc: 0.3477 F1: 0.2471\n",
            "\n",
            "Epoch 15/20\n",
            "----------\n",
            "train Loss: 1.2750 Acc: 0.3348 F1: 0.3095\n",
            "val Loss: 1.6259 Acc: 0.3629 F1: 0.2992\n",
            "\n",
            "Epoch 16/20\n",
            "----------\n",
            "train Loss: 1.2626 Acc: 0.3505 F1: 0.3373\n",
            "val Loss: 1.4988 Acc: 0.4036 F1: 0.3194\n",
            "\n",
            "Epoch 17/20\n",
            "----------\n",
            "train Loss: 1.2428 Acc: 0.3638 F1: 0.3575\n",
            "val Loss: 1.4815 Acc: 0.3680 F1: 0.2739\n",
            "\n",
            "Epoch 18/20\n",
            "----------\n",
            "train Loss: 1.2380 Acc: 0.3686 F1: 0.3622\n",
            "val Loss: 1.3997 Acc: 0.3173 F1: 0.2292\n",
            "\n",
            "Epoch 19/20\n",
            "----------\n",
            "train Loss: 1.2415 Acc: 0.3679 F1: 0.3223\n",
            "val Loss: 1.5854 Acc: 0.4112 F1: 0.3458\n",
            "\n",
            "Epoch 20/20\n",
            "----------\n",
            "train Loss: 1.2395 Acc: 0.3753 F1: 0.3665\n",
            "val Loss: 1.4080 Acc: 0.3528 F1: 0.2322\n",
            "\n",
            "Training complete in 230m 6s\n",
            "Best val Acc: 0.4391\n"
          ]
        },
        {
          "data": {
            "image/png": "[encoded data removed]",
            "text/plain": [
              "<Figure size 1200x600 with 1 Axes>"
            ]
          },
          "metadata": {},
          "output_type": "display_data"
        },
        {
          "name": "stdout",
          "output_type": "stream",
          "text": [
            "Final Accuracy on Validation Set: 43.91%\n"
          ]
        }
      ],
      "source": [
        "def train_model(model, criterion, optimizer, num_epochs=20):\n",
        "    since = time.time()\n",
        "\n",
        "    best_model_wts = copy.deepcopy(model.state_dict())\n",
        "    best_acc = 0.0\n",
        "\n",
        "    for epoch in range(num_epochs):\n",
        "        print(f'Epoch {epoch + 1}/{num_epochs}')\n",
        "        print('-' * 10)\n",
        "\n",
        "        for phase in ['train', 'val']:       # Each epoch has a training and validation phase\n",
        "            model.train() if phase == 'train' else model.eval()\n",
        "\n",
        "            running_loss = 0.0\n",
        "            running_corrects = 0\n",
        "            all_labels = []\n",
        "            all_preds = []\n",
        "\n",
        "            for inputs, labels in dataloaders[phase]:\n",
        "                inputs, labels = inputs.to(device), labels.to(device)\n",
        "\n",
        "                # Zero the parameter gradients\n",
        "                optimizer.zero_grad()\n",
        "\n",
        "                # Forward\n",
        "                with torch.set_grad_enabled(phase == 'train'):\n",
        "                    outputs = model(inputs)\n",
        "                    _, preds = torch.max(outputs, 1)\n",
        "                    loss = criterion(outputs, labels)\n",
        "\n",
        "                    if phase == 'train': # Backward + optimize (only in the training phase)\n",
        "                        loss.backward()\n",
        "                        optimizer.step()\n",
        "\n",
        "                running_loss += loss.item() * inputs.size(0)\n",
        "                running_corrects += torch.sum(preds == labels.data)\n",
        "\n",
        "                all_labels.extend(labels.cpu().numpy()) # Collect all labels and predictions for F1 scores\n",
        "                all_preds.extend(preds.cpu().numpy())\n",
        "\n",
        "            epoch_loss = running_loss / len(image_datasets[phase])\n",
        "            epoch_acc = running_corrects.double() / len(image_datasets[phase])\n",
        "\n",
        "            # F1 Score\n",
        "            f1 = f1_score(all_labels, all_preds, average='weighted')\n",
        "\n",
        "            if phase == 'train': # Save the loss history to plot the graph\n",
        "                train_loss_history.append(epoch_loss)\n",
        "            else:\n",
        "                val_loss_history.append(epoch_loss)\n",
        "\n",
        "            print(f'{phase} Loss: {epoch_loss:.4f} Acc: {epoch_acc:.4f} F1: {f1:.4f}')\n",
        "\n",
        "            # Deep copy the model if it has the best accuracy\n",
        "            if phase == 'val' and epoch_acc > best_acc:\n",
        "                best_acc = epoch_acc\n",
        "                best_model_wts = copy.deepcopy(model.state_dict())\n",
        "\n",
        "        print()\n",
        "\n",
        "    time_elapsed = time.time() - since\n",
        "    print(f'Training complete in {time_elapsed // 60:.0f}m {time_elapsed % 60:.0f}s')\n",
        "    print(f'Best val Acc: {best_acc:.4f}')\n",
        "\n",
        "    model.load_state_dict(best_model_wts) # Loading the best model weights\n",
        "\n",
        "    return model\n",
        "\n",
        "best_model = train_model(model, criterion, optimizer, num_epochs)\n",
        "torch.save(best_model.state_dict(), 'vgg19_best_model.pth')\n",
        "\n",
        "# Plotting loss graphs\n",
        "plt.figure(figsize=(12, 6))\n",
        "plt.plot(range(1, num_epochs+1), train_loss_history, label='Training Loss')\n",
        "plt.plot(range(1, num_epochs+1), val_loss_history, label='Validation Loss')\n",
        "plt.xlabel('Epochs')\n",
        "plt.ylabel('Loss')\n",
        "plt.title('Training and Validation Loss')\n",
        "plt.legend()\n",
        "plt.show()\n",
        "\n",
        "# Evaluation on the validation set\n",
        "model.eval()\n",
        "correct = 0\n",
        "total = 0\n",
        "for inputs, labels in dataloaders['val']:\n",
        "    inputs, labels = inputs.to(device), labels.to(device)\n",
        "    outputs = model(inputs)\n",
        "    _, preds = torch.max(outputs, 1)\n",
        "    total += labels.size(0)\n",
        "    correct += (preds == labels).sum().item()\n",
        "\n",
        "final_accuracy = correct / total\n",
        "print(f'Final Accuracy on Validation Set: {final_accuracy * 100:.2f}%')"
      ]
    },
    {
      "cell_type": "code",
      "execution_count": null,
      "id": "40aefb17-fa3e-4867-9b41-ab61fe92ba46",
      "metadata": {
        "id": "40aefb17-fa3e-4867-9b41-ab61fe92ba46"
      },
      "outputs": [],
      "source": []
    }
  ],
  "metadata": {
    "kernelspec": {
      "display_name": "Python 3 (ipykernel)",
      "language": "python",
      "name": "python3"
    },
    "language_info": {
      "codemirror_mode": {
        "name": "ipython",
        "version": 3
      },
      "file_extension": ".py",
      "mimetype": "text/x-python",
      "name": "python",
      "nbconvert_exporter": "python",
      "pygments_lexer": "ipython3",
      "version": "3.10.12"
    },
    "colab": {
      "provenance": []
    }
  },
  "nbformat": 4,
  "nbformat_minor": 5
}