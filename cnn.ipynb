{
  "cells": [
    {
      "cell_type": "code",
      "execution_count": null,
      "id": "6cff6370-7fc4-4ca8-b388-45848d911855",
      "metadata": {
        "id": "6cff6370-7fc4-4ca8-b388-45848d911855",
        "outputId": "bc81a9ef-b81f-418b-c670-8f2ceb745926"
      },
      "outputs": [
        {
          "name": "stderr",
          "output_type": "stream",
          "text": [
            "2024-11-27 11:40:35.072407: I tensorflow/core/util/port.cc:113] oneDNN custom operations are on. You may see slightly different numerical results due to floating-point round-off errors from different computation orders. To turn them off, set the environment variable `TF_ENABLE_ONEDNN_OPTS=0`.\n",
            "2024-11-27 11:40:35.405163: I tensorflow/core/platform/cpu_feature_guard.cc:210] This TensorFlow binary is optimized to use available CPU instructions in performance-critical operations.\n",
            "To enable the following instructions: AVX2 AVX_VNNI FMA, in other operations, rebuild TensorFlow with the appropriate compiler flags.\n",
            "2024-11-27 11:40:36.179035: W tensorflow/compiler/tf2tensorrt/utils/py_utils.cc:38] TF-TRT Warning: Could not find TensorRT\n"
          ]
        }
      ],
      "source": [
        "from tensorflow.keras.models import Sequential\n",
        "from tensorflow.keras.layers import Dense, Dropout, Activation, Flatten, Conv2D, MaxPooling2D\n",
        "from tensorflow.keras.callbacks import TensorBoard, EarlyStopping\n",
        "from tensorflow.keras.preprocessing.image import ImageDataGenerator\n",
        "from sklearn.metrics import classification_report\n",
        "import numpy as np\n",
        "import time\n",
        "import os"
      ]
    },
    {
      "cell_type": "code",
      "execution_count": null,
      "id": "1bc1ba10-e983-4029-b19c-693cda31742c",
      "metadata": {
        "id": "1bc1ba10-e983-4029-b19c-693cda31742c"
      },
      "outputs": [],
      "source": [
        "tensorboard = TensorBoard(log_dir='./logs', histogram_freq=0, write_graph=True, write_images=False)\n",
        "es = EarlyStopping(monitor='val_loss', mode='min', verbose=1, patience=5)"
      ]
    },
    {
      "cell_type": "code",
      "execution_count": null,
      "id": "da4639ed-045b-4b86-a50d-871d7e7c0b71",
      "metadata": {
        "id": "da4639ed-045b-4b86-a50d-871d7e7c0b71"
      },
      "outputs": [],
      "source": [
        "BASE_DIR = \"/home/aishwaryakunche/DL project\"\n",
        "TRAIN_DIR = os.path.join(BASE_DIR, \"training\")\n",
        "TEST_DIR = os.path.join(BASE_DIR, \"testing\")"
      ]
    },
    {
      "cell_type": "code",
      "execution_count": null,
      "id": "bd9e860a-304c-43dc-8180-be1973cc4f16",
      "metadata": {
        "id": "bd9e860a-304c-43dc-8180-be1973cc4f16"
      },
      "outputs": [],
      "source": [
        "IMG_HEIGHT, IMG_WIDTH = 150, 150"
      ]
    },
    {
      "cell_type": "code",
      "execution_count": null,
      "id": "1efb7363-bffe-429b-9182-40dd82cfcd0b",
      "metadata": {
        "id": "1efb7363-bffe-429b-9182-40dd82cfcd0b"
      },
      "outputs": [],
      "source": [
        "train_datagen = ImageDataGenerator(rescale=1./255)\n",
        "test_datagen = ImageDataGenerator(rescale=1./255)"
      ]
    },
    {
      "cell_type": "code",
      "execution_count": null,
      "id": "9bd04bad-10ce-45c6-b9c3-3e255fb192b8",
      "metadata": {
        "id": "9bd04bad-10ce-45c6-b9c3-3e255fb192b8",
        "outputId": "17d1a7aa-190b-4915-b00a-aba881622708"
      },
      "outputs": [
        {
          "name": "stdout",
          "output_type": "stream",
          "text": [
            "Found 2870 images belonging to 4 classes.\n"
          ]
        }
      ],
      "source": [
        "train_generator = train_datagen.flow_from_directory(\n",
        "    TRAIN_DIR,\n",
        "    target_size=(IMG_HEIGHT, IMG_WIDTH),\n",
        "    batch_size=32,\n",
        "    class_mode='sparse'\n",
        ")\n"
      ]
    },
    {
      "cell_type": "code",
      "execution_count": null,
      "id": "73f34013-772c-437b-a332-91a9b8563976",
      "metadata": {
        "id": "73f34013-772c-437b-a332-91a9b8563976",
        "outputId": "4fabb3b7-dffe-4af1-dde8-a222c7f27f0a"
      },
      "outputs": [
        {
          "name": "stdout",
          "output_type": "stream",
          "text": [
            "Found 394 images belonging to 4 classes.\n"
          ]
        }
      ],
      "source": [
        "test_generator = test_datagen.flow_from_directory(\n",
        "    TEST_DIR,\n",
        "    target_size=(IMG_HEIGHT, IMG_WIDTH),\n",
        "    batch_size=32,\n",
        "    class_mode='sparse'\n",
        ")"
      ]
    },
    {
      "cell_type": "code",
      "execution_count": null,
      "id": "012ac1e8-59a6-4454-8462-f2bfbaaaf5e6",
      "metadata": {
        "id": "012ac1e8-59a6-4454-8462-f2bfbaaaf5e6",
        "outputId": "b08b06f5-2737-4c08-c904-2f6763e0b036"
      },
      "outputs": [
        {
          "name": "stdout",
          "output_type": "stream",
          "text": [
            "1-conv-32-nodes-0-dense-1732687991\n",
            "Epoch 1/20\n"
          ]
        },
        {
          "name": "stderr",
          "output_type": "stream",
          "text": [
            "/home/aishwaryakunche/.local/lib/python3.10/site-packages/keras/src/layers/convolutional/base_conv.py:107: UserWarning: Do not pass an `input_shape`/`input_dim` argument to a layer. When using Sequential models, prefer using an `Input(shape)` object as the first layer in the model instead.\n",
            "  super().__init__(activity_regularizer=activity_regularizer, **kwargs)\n",
            "/home/aishwaryakunche/.local/lib/python3.10/site-packages/keras/src/trainers/data_adapters/py_dataset_adapter.py:121: UserWarning: Your `PyDataset` class should call `super().__init__(**kwargs)` in its constructor. `**kwargs` can include `workers`, `use_multiprocessing`, `max_queue_size`. Do not pass these arguments to `fit()`, as they will be ignored.\n",
            "  self._warn_if_super_not_called()\n"
          ]
        },
        {
          "name": "stdout",
          "output_type": "stream",
          "text": [
            "\u001b[1m90/90\u001b[0m \u001b[32m━━━━━━━━━━━━━━━━━━━━\u001b[0m\u001b[37m\u001b[0m \u001b[1m0s\u001b[0m 63ms/step - accuracy: 0.3786 - loss: 1.8565"
          ]
        },
        {
          "name": "stderr",
          "output_type": "stream",
          "text": [
            "/home/aishwaryakunche/.local/lib/python3.10/site-packages/keras/src/trainers/data_adapters/py_dataset_adapter.py:121: UserWarning: Your `PyDataset` class should call `super().__init__(**kwargs)` in its constructor. `**kwargs` can include `workers`, `use_multiprocessing`, `max_queue_size`. Do not pass these arguments to `fit()`, as they will be ignored.\n",
            "  self._warn_if_super_not_called()\n"
          ]
        },
        {
          "name": "stdout",
          "output_type": "stream",
          "text": [
            "\u001b[1m90/90\u001b[0m \u001b[32m━━━━━━━━━━━━━━━━━━━━\u001b[0m\u001b[37m\u001b[0m \u001b[1m7s\u001b[0m 68ms/step - accuracy: 0.3800 - loss: 1.8502 - val_accuracy: 0.5178 - val_loss: 1.2510\n",
            "Epoch 2/20\n",
            "\u001b[1m90/90\u001b[0m \u001b[32m━━━━━━━━━━━━━━━━━━━━\u001b[0m\u001b[37m\u001b[0m \u001b[1m6s\u001b[0m 68ms/step - accuracy: 0.7837 - loss: 0.5378 - val_accuracy: 0.6751 - val_loss: 1.2236\n",
            "Epoch 3/20\n",
            "\u001b[1m90/90\u001b[0m \u001b[32m━━━━━━━━━━━━━━━━━━━━\u001b[0m\u001b[37m\u001b[0m \u001b[1m6s\u001b[0m 67ms/step - accuracy: 0.9230 - loss: 0.2827 - val_accuracy: 0.7310 - val_loss: 1.1727\n",
            "Epoch 4/20\n",
            "\u001b[1m90/90\u001b[0m \u001b[32m━━━━━━━━━━━━━━━━━━━━\u001b[0m\u001b[37m\u001b[0m \u001b[1m6s\u001b[0m 69ms/step - accuracy: 0.9712 - loss: 0.1342 - val_accuracy: 0.7766 - val_loss: 1.3019\n",
            "Epoch 5/20\n",
            "\u001b[1m90/90\u001b[0m \u001b[32m━━━━━━━━━━━━━━━━━━━━\u001b[0m\u001b[37m\u001b[0m \u001b[1m6s\u001b[0m 67ms/step - accuracy: 0.9917 - loss: 0.0652 - val_accuracy: 0.7563 - val_loss: 1.3840\n",
            "Epoch 6/20\n",
            "\u001b[1m90/90\u001b[0m \u001b[32m━━━━━━━━━━━━━━━━━━━━\u001b[0m\u001b[37m\u001b[0m \u001b[1m6s\u001b[0m 68ms/step - accuracy: 0.9968 - loss: 0.0402 - val_accuracy: 0.7589 - val_loss: 1.6361\n",
            "Epoch 7/20\n",
            "\u001b[1m90/90\u001b[0m \u001b[32m━━━━━━━━━━━━━━━━━━━━\u001b[0m\u001b[37m\u001b[0m \u001b[1m6s\u001b[0m 67ms/step - accuracy: 0.9994 - loss: 0.0224 - val_accuracy: 0.7843 - val_loss: 1.7950\n",
            "Epoch 8/20\n",
            "\u001b[1m90/90\u001b[0m \u001b[32m━━━━━━━━━━━━━━━━━━━━\u001b[0m\u001b[37m\u001b[0m \u001b[1m6s\u001b[0m 67ms/step - accuracy: 0.9989 - loss: 0.0146 - val_accuracy: 0.7487 - val_loss: 2.1789\n",
            "Epoch 8: early stopping\n",
            "\u001b[1m13/13\u001b[0m \u001b[32m━━━━━━━━━━━━━━━━━━━━\u001b[0m\u001b[37m\u001b[0m \u001b[1m0s\u001b[0m 26ms/step - accuracy: 0.7387 - loss: 2.1522\n"
          ]
        },
        {
          "name": "stderr",
          "output_type": "stream",
          "text": [
            "WARNING:absl:You are saving your model as an HDF5 file via `model.save()` or `keras.saving.save_model(model)`. This file format is considered legacy. We recommend using instead the native Keras format, e.g. `model.save('my_model.keras')` or `keras.saving.save_model(model, 'my_model.keras')`. \n"
          ]
        },
        {
          "name": "stdout",
          "output_type": "stream",
          "text": [
            "Test loss: 2.178896903991699\n",
            "Test accuracy: 0.7487309575080872\n",
            "\u001b[1m13/13\u001b[0m \u001b[32m━━━━━━━━━━━━━━━━━━━━\u001b[0m\u001b[37m\u001b[0m \u001b[1m0s\u001b[0m 29ms/step\n",
            "              precision    recall  f1-score   support\n",
            "\n",
            "      glioma       0.18      0.04      0.07       100\n",
            "  meningioma       0.30      0.43      0.36       115\n",
            "    no_tumor       0.28      0.39      0.33       105\n",
            "   pituitary       0.24      0.22      0.23        74\n",
            "\n",
            "    accuracy                           0.28       394\n",
            "   macro avg       0.25      0.27      0.24       394\n",
            "weighted avg       0.26      0.28      0.25       394\n",
            "\n",
            "2-conv-32-nodes-0-dense-1732688043\n",
            "Epoch 1/20\n"
          ]
        },
        {
          "name": "stderr",
          "output_type": "stream",
          "text": [
            "/home/aishwaryakunche/.local/lib/python3.10/site-packages/keras/src/layers/convolutional/base_conv.py:107: UserWarning: Do not pass an `input_shape`/`input_dim` argument to a layer. When using Sequential models, prefer using an `Input(shape)` object as the first layer in the model instead.\n",
            "  super().__init__(activity_regularizer=activity_regularizer, **kwargs)\n"
          ]
        },
        {
          "name": "stdout",
          "output_type": "stream",
          "text": [
            "\u001b[1m90/90\u001b[0m \u001b[32m━━━━━━━━━━━━━━━━━━━━\u001b[0m\u001b[37m\u001b[0m \u001b[1m9s\u001b[0m 90ms/step - accuracy: 0.3688 - loss: 1.4082 - val_accuracy: 0.4315 - val_loss: 1.2031\n",
            "Epoch 2/20\n",
            "\u001b[1m90/90\u001b[0m \u001b[32m━━━━━━━━━━━━━━━━━━━━\u001b[0m\u001b[37m\u001b[0m \u001b[1m8s\u001b[0m 91ms/step - accuracy: 0.6682 - loss: 0.7941 - val_accuracy: 0.5279 - val_loss: 1.6007\n",
            "Epoch 3/20\n",
            "\u001b[1m90/90\u001b[0m \u001b[32m━━━━━━━━━━━━━━━━━━━━\u001b[0m\u001b[37m\u001b[0m \u001b[1m9s\u001b[0m 95ms/step - accuracy: 0.8099 - loss: 0.5034 - val_accuracy: 0.6269 - val_loss: 1.8397\n",
            "Epoch 4/20\n",
            "\u001b[1m90/90\u001b[0m \u001b[32m━━━━━━━━━━━━━━━━━━━━\u001b[0m\u001b[37m\u001b[0m \u001b[1m9s\u001b[0m 97ms/step - accuracy: 0.8309 - loss: 0.4410 - val_accuracy: 0.6929 - val_loss: 1.3949\n",
            "Epoch 5/20\n",
            "\u001b[1m90/90\u001b[0m \u001b[32m━━━━━━━━━━━━━━━━━━━━\u001b[0m\u001b[37m\u001b[0m \u001b[1m9s\u001b[0m 95ms/step - accuracy: 0.9198 - loss: 0.2589 - val_accuracy: 0.7056 - val_loss: 1.8338\n",
            "Epoch 5: early stopping\n",
            "\u001b[1m13/13\u001b[0m \u001b[32m━━━━━━━━━━━━━━━━━━━━\u001b[0m\u001b[37m\u001b[0m \u001b[1m0s\u001b[0m 35ms/step - accuracy: 0.6743 - loss: 2.1607\n"
          ]
        },
        {
          "name": "stderr",
          "output_type": "stream",
          "text": [
            "WARNING:absl:You are saving your model as an HDF5 file via `model.save()` or `keras.saving.save_model(model)`. This file format is considered legacy. We recommend using instead the native Keras format, e.g. `model.save('my_model.keras')` or `keras.saving.save_model(model, 'my_model.keras')`. \n"
          ]
        },
        {
          "name": "stdout",
          "output_type": "stream",
          "text": [
            "Test loss: 1.8338394165039062\n",
            "Test accuracy: 0.7055837512016296\n",
            "\u001b[1m13/13\u001b[0m \u001b[32m━━━━━━━━━━━━━━━━━━━━\u001b[0m\u001b[37m\u001b[0m \u001b[1m1s\u001b[0m 35ms/step\n",
            "              precision    recall  f1-score   support\n",
            "\n",
            "      glioma       0.12      0.03      0.05       100\n",
            "  meningioma       0.28      0.33      0.30       115\n",
            "    no_tumor       0.30      0.50      0.37       105\n",
            "   pituitary       0.20      0.15      0.17        74\n",
            "\n",
            "    accuracy                           0.27       394\n",
            "   macro avg       0.22      0.25      0.22       394\n",
            "weighted avg       0.23      0.27      0.23       394\n",
            "\n",
            "3-conv-32-nodes-0-dense-1732688087\n",
            "Epoch 1/20\n"
          ]
        },
        {
          "name": "stderr",
          "output_type": "stream",
          "text": [
            "/home/aishwaryakunche/.local/lib/python3.10/site-packages/keras/src/layers/convolutional/base_conv.py:107: UserWarning: Do not pass an `input_shape`/`input_dim` argument to a layer. When using Sequential models, prefer using an `Input(shape)` object as the first layer in the model instead.\n",
            "  super().__init__(activity_regularizer=activity_regularizer, **kwargs)\n"
          ]
        },
        {
          "name": "stdout",
          "output_type": "stream",
          "text": [
            "\u001b[1m90/90\u001b[0m \u001b[32m━━━━━━━━━━━━━━━━━━━━\u001b[0m\u001b[37m\u001b[0m \u001b[1m10s\u001b[0m 102ms/step - accuracy: 0.3651 - loss: 1.3218 - val_accuracy: 0.4213 - val_loss: 1.5930\n",
            "Epoch 2/20\n",
            "\u001b[1m90/90\u001b[0m \u001b[32m━━━━━━━━━━━━━━━━━━━━\u001b[0m\u001b[37m\u001b[0m \u001b[1m9s\u001b[0m 99ms/step - accuracy: 0.6725 - loss: 0.8089 - val_accuracy: 0.4924 - val_loss: 1.5728\n",
            "Epoch 3/20\n",
            "\u001b[1m90/90\u001b[0m \u001b[32m━━━━━━━━━━━━━━━━━━━━\u001b[0m\u001b[37m\u001b[0m \u001b[1m9s\u001b[0m 94ms/step - accuracy: 0.7563 - loss: 0.5945 - val_accuracy: 0.6066 - val_loss: 1.6709\n",
            "Epoch 4/20\n",
            "\u001b[1m90/90\u001b[0m \u001b[32m━━━━━━━━━━━━━━━━━━━━\u001b[0m\u001b[37m\u001b[0m \u001b[1m9s\u001b[0m 93ms/step - accuracy: 0.8242 - loss: 0.4834 - val_accuracy: 0.6269 - val_loss: 1.7269\n",
            "Epoch 5/20\n",
            "\u001b[1m90/90\u001b[0m \u001b[32m━━━━━━━━━━━━━━━━━━━━\u001b[0m\u001b[37m\u001b[0m \u001b[1m9s\u001b[0m 95ms/step - accuracy: 0.8788 - loss: 0.3574 - val_accuracy: 0.6574 - val_loss: 2.2027\n",
            "Epoch 5: early stopping\n",
            "\u001b[1m13/13\u001b[0m \u001b[32m━━━━━━━━━━━━━━━━━━━━\u001b[0m\u001b[37m\u001b[0m \u001b[1m0s\u001b[0m 30ms/step - accuracy: 0.6383 - loss: 2.4868\n"
          ]
        },
        {
          "name": "stderr",
          "output_type": "stream",
          "text": [
            "WARNING:absl:You are saving your model as an HDF5 file via `model.save()` or `keras.saving.save_model(model)`. This file format is considered legacy. We recommend using instead the native Keras format, e.g. `model.save('my_model.keras')` or `keras.saving.save_model(model, 'my_model.keras')`. \n"
          ]
        },
        {
          "name": "stdout",
          "output_type": "stream",
          "text": [
            "Test loss: 2.2026519775390625\n",
            "Test accuracy: 0.6573604345321655\n",
            "\u001b[1m13/13\u001b[0m \u001b[32m━━━━━━━━━━━━━━━━━━━━\u001b[0m\u001b[37m\u001b[0m \u001b[1m0s\u001b[0m 34ms/step\n",
            "              precision    recall  f1-score   support\n",
            "\n",
            "      glioma       0.23      0.05      0.08       100\n",
            "  meningioma       0.30      0.43      0.35       115\n",
            "    no_tumor       0.25      0.41      0.31       105\n",
            "   pituitary       0.17      0.08      0.11        74\n",
            "\n",
            "    accuracy                           0.26       394\n",
            "   macro avg       0.24      0.24      0.21       394\n",
            "weighted avg       0.24      0.26      0.23       394\n",
            "\n",
            "1-conv-64-nodes-0-dense-1732688133\n",
            "Epoch 1/20\n"
          ]
        },
        {
          "name": "stderr",
          "output_type": "stream",
          "text": [
            "/home/aishwaryakunche/.local/lib/python3.10/site-packages/keras/src/layers/convolutional/base_conv.py:107: UserWarning: Do not pass an `input_shape`/`input_dim` argument to a layer. When using Sequential models, prefer using an `Input(shape)` object as the first layer in the model instead.\n",
            "  super().__init__(activity_regularizer=activity_regularizer, **kwargs)\n"
          ]
        },
        {
          "name": "stdout",
          "output_type": "stream",
          "text": [
            "\u001b[1m90/90\u001b[0m \u001b[32m━━━━━━━━━━━━━━━━━━━━\u001b[0m\u001b[37m\u001b[0m \u001b[1m13s\u001b[0m 137ms/step - accuracy: 0.3724 - loss: 3.0179 - val_accuracy: 0.5203 - val_loss: 1.1364\n",
            "Epoch 2/20\n",
            "\u001b[1m90/90\u001b[0m \u001b[32m━━━━━━━━━━━━━━━━━━━━\u001b[0m\u001b[37m\u001b[0m \u001b[1m12s\u001b[0m 135ms/step - accuracy: 0.8067 - loss: 0.5559 - val_accuracy: 0.6878 - val_loss: 1.2165\n",
            "Epoch 3/20\n",
            "\u001b[1m90/90\u001b[0m \u001b[32m━━━━━━━━━━━━━━━━━━━━\u001b[0m\u001b[37m\u001b[0m \u001b[1m12s\u001b[0m 134ms/step - accuracy: 0.9351 - loss: 0.2368 - val_accuracy: 0.7843 - val_loss: 1.0815\n",
            "Epoch 4/20\n",
            "\u001b[1m90/90\u001b[0m \u001b[32m━━━━━━━━━━━━━━━━━━━━\u001b[0m\u001b[37m\u001b[0m \u001b[1m12s\u001b[0m 134ms/step - accuracy: 0.9706 - loss: 0.1253 - val_accuracy: 0.7487 - val_loss: 1.5754\n",
            "Epoch 5/20\n",
            "\u001b[1m90/90\u001b[0m \u001b[32m━━━━━━━━━━━━━━━━━━━━\u001b[0m\u001b[37m\u001b[0m \u001b[1m12s\u001b[0m 135ms/step - accuracy: 0.9940 - loss: 0.0523 - val_accuracy: 0.7386 - val_loss: 1.7719\n",
            "Epoch 6/20\n",
            "\u001b[1m90/90\u001b[0m \u001b[32m━━━━━━━━━━━━━━━━━━━━\u001b[0m\u001b[37m\u001b[0m \u001b[1m12s\u001b[0m 134ms/step - accuracy: 0.9975 - loss: 0.0235 - val_accuracy: 0.7411 - val_loss: 1.7968\n",
            "Epoch 7/20\n",
            "\u001b[1m90/90\u001b[0m \u001b[32m━━━━━━━━━━━━━━━━━━━━\u001b[0m\u001b[37m\u001b[0m \u001b[1m12s\u001b[0m 134ms/step - accuracy: 0.9986 - loss: 0.0131 - val_accuracy: 0.7437 - val_loss: 2.0141\n",
            "Epoch 8/20\n",
            "\u001b[1m90/90\u001b[0m \u001b[32m━━━━━━━━━━━━━━━━━━━━\u001b[0m\u001b[37m\u001b[0m \u001b[1m12s\u001b[0m 134ms/step - accuracy: 0.9999 - loss: 0.0081 - val_accuracy: 0.7716 - val_loss: 1.6613\n",
            "Epoch 8: early stopping\n",
            "\u001b[1m13/13\u001b[0m \u001b[32m━━━━━━━━━━━━━━━━━━━━\u001b[0m\u001b[37m\u001b[0m \u001b[1m1s\u001b[0m 39ms/step - accuracy: 0.7612 - loss: 1.6370\n"
          ]
        },
        {
          "name": "stderr",
          "output_type": "stream",
          "text": [
            "WARNING:absl:You are saving your model as an HDF5 file via `model.save()` or `keras.saving.save_model(model)`. This file format is considered legacy. We recommend using instead the native Keras format, e.g. `model.save('my_model.keras')` or `keras.saving.save_model(model, 'my_model.keras')`. \n"
          ]
        },
        {
          "name": "stdout",
          "output_type": "stream",
          "text": [
            "Test loss: 1.6612764596939087\n",
            "Test accuracy: 0.7715736031532288\n",
            "\u001b[1m13/13\u001b[0m \u001b[32m━━━━━━━━━━━━━━━━━━━━\u001b[0m\u001b[37m\u001b[0m \u001b[1m1s\u001b[0m 42ms/step\n",
            "              precision    recall  f1-score   support\n",
            "\n",
            "      glioma       0.23      0.07      0.11       100\n",
            "  meningioma       0.33      0.48      0.39       115\n",
            "    no_tumor       0.29      0.34      0.31       105\n",
            "   pituitary       0.23      0.22      0.22        74\n",
            "\n",
            "    accuracy                           0.29       394\n",
            "   macro avg       0.27      0.28      0.26       394\n",
            "weighted avg       0.27      0.29      0.27       394\n",
            "\n",
            "2-conv-64-nodes-0-dense-1732688232\n",
            "Epoch 1/20\n"
          ]
        },
        {
          "name": "stderr",
          "output_type": "stream",
          "text": [
            "/home/aishwaryakunche/.local/lib/python3.10/site-packages/keras/src/layers/convolutional/base_conv.py:107: UserWarning: Do not pass an `input_shape`/`input_dim` argument to a layer. When using Sequential models, prefer using an `Input(shape)` object as the first layer in the model instead.\n",
            "  super().__init__(activity_regularizer=activity_regularizer, **kwargs)\n"
          ]
        },
        {
          "name": "stdout",
          "output_type": "stream",
          "text": [
            "\u001b[1m90/90\u001b[0m \u001b[32m━━━━━━━━━━━━━━━━━━━━\u001b[0m\u001b[37m\u001b[0m \u001b[1m21s\u001b[0m 231ms/step - accuracy: 0.3692 - loss: 1.3471 - val_accuracy: 0.4898 - val_loss: 1.2668\n",
            "Epoch 2/20\n",
            "\u001b[1m90/90\u001b[0m \u001b[32m━━━━━━━━━━━━━━━━━━━━\u001b[0m\u001b[37m\u001b[0m \u001b[1m21s\u001b[0m 233ms/step - accuracy: 0.7488 - loss: 0.6842 - val_accuracy: 0.5660 - val_loss: 1.4194\n",
            "Epoch 3/20\n",
            "\u001b[1m90/90\u001b[0m \u001b[32m━━━━━━━━━━━━━━━━━━━━\u001b[0m\u001b[37m\u001b[0m \u001b[1m21s\u001b[0m 232ms/step - accuracy: 0.8527 - loss: 0.4080 - val_accuracy: 0.6624 - val_loss: 1.2792\n",
            "Epoch 4/20\n",
            "\u001b[1m90/90\u001b[0m \u001b[32m━━━━━━━━━━━━━━━━━━━━\u001b[0m\u001b[37m\u001b[0m \u001b[1m21s\u001b[0m 234ms/step - accuracy: 0.8935 - loss: 0.2948 - val_accuracy: 0.6853 - val_loss: 1.3828\n",
            "Epoch 5/20\n",
            "\u001b[1m90/90\u001b[0m \u001b[32m━━━━━━━━━━━━━━━━━━━━\u001b[0m\u001b[37m\u001b[0m \u001b[1m22s\u001b[0m 238ms/step - accuracy: 0.9399 - loss: 0.1984 - val_accuracy: 0.7589 - val_loss: 1.4201\n",
            "Epoch 5: early stopping\n",
            "\u001b[1m13/13\u001b[0m \u001b[32m━━━━━━━━━━━━━━━━━━━━\u001b[0m\u001b[37m\u001b[0m \u001b[1m1s\u001b[0m 65ms/step - accuracy: 0.7359 - loss: 1.4796\n"
          ]
        },
        {
          "name": "stderr",
          "output_type": "stream",
          "text": [
            "WARNING:absl:You are saving your model as an HDF5 file via `model.save()` or `keras.saving.save_model(model)`. This file format is considered legacy. We recommend using instead the native Keras format, e.g. `model.save('my_model.keras')` or `keras.saving.save_model(model, 'my_model.keras')`. \n"
          ]
        },
        {
          "name": "stdout",
          "output_type": "stream",
          "text": [
            "Test loss: 1.4200800657272339\n",
            "Test accuracy: 0.7588832378387451\n",
            "\u001b[1m13/13\u001b[0m \u001b[32m━━━━━━━━━━━━━━━━━━━━\u001b[0m\u001b[37m\u001b[0m \u001b[1m1s\u001b[0m 66ms/step\n",
            "              precision    recall  f1-score   support\n",
            "\n",
            "      glioma       0.27      0.10      0.15       100\n",
            "  meningioma       0.24      0.25      0.24       115\n",
            "    no_tumor       0.26      0.40      0.32       105\n",
            "   pituitary       0.23      0.23      0.23        74\n",
            "\n",
            "    accuracy                           0.25       394\n",
            "   macro avg       0.25      0.25      0.23       394\n",
            "weighted avg       0.25      0.25      0.24       394\n",
            "\n",
            "3-conv-64-nodes-0-dense-1732688340\n",
            "Epoch 1/20\n"
          ]
        },
        {
          "name": "stderr",
          "output_type": "stream",
          "text": [
            "/home/aishwaryakunche/.local/lib/python3.10/site-packages/keras/src/layers/convolutional/base_conv.py:107: UserWarning: Do not pass an `input_shape`/`input_dim` argument to a layer. When using Sequential models, prefer using an `Input(shape)` object as the first layer in the model instead.\n",
            "  super().__init__(activity_regularizer=activity_regularizer, **kwargs)\n"
          ]
        },
        {
          "name": "stdout",
          "output_type": "stream",
          "text": [
            "\u001b[1m90/90\u001b[0m \u001b[32m━━━━━━━━━━━━━━━━━━━━\u001b[0m\u001b[37m\u001b[0m \u001b[1m24s\u001b[0m 261ms/step - accuracy: 0.3699 - loss: 1.3003 - val_accuracy: 0.4721 - val_loss: 1.1946\n",
            "Epoch 2/20\n",
            "\u001b[1m90/90\u001b[0m \u001b[32m━━━━━━━━━━━━━━━━━━━━\u001b[0m\u001b[37m\u001b[0m \u001b[1m23s\u001b[0m 257ms/step - accuracy: 0.6813 - loss: 0.7641 - val_accuracy: 0.4848 - val_loss: 1.7421\n",
            "Epoch 3/20\n",
            "\u001b[1m90/90\u001b[0m \u001b[32m━━━━━━━━━━━━━━━━━━━━\u001b[0m\u001b[37m\u001b[0m \u001b[1m23s\u001b[0m 255ms/step - accuracy: 0.8072 - loss: 0.5242 - val_accuracy: 0.5178 - val_loss: 2.5904\n",
            "Epoch 4/20\n",
            "\u001b[1m90/90\u001b[0m \u001b[32m━━━━━━━━━━━━━━━━━━━━\u001b[0m\u001b[37m\u001b[0m \u001b[1m23s\u001b[0m 254ms/step - accuracy: 0.8410 - loss: 0.4054 - val_accuracy: 0.6193 - val_loss: 2.2223\n",
            "Epoch 5/20\n",
            "\u001b[1m90/90\u001b[0m \u001b[32m━━━━━━━━━━━━━━━━━━━━\u001b[0m\u001b[37m\u001b[0m \u001b[1m23s\u001b[0m 258ms/step - accuracy: 0.9045 - loss: 0.2641 - val_accuracy: 0.6853 - val_loss: 1.5684\n",
            "Epoch 5: early stopping\n",
            "\u001b[1m13/13\u001b[0m \u001b[32m━━━━━━━━━━━━━━━━━━━━\u001b[0m\u001b[37m\u001b[0m \u001b[1m1s\u001b[0m 70ms/step - accuracy: 0.6784 - loss: 1.7498\n"
          ]
        },
        {
          "name": "stderr",
          "output_type": "stream",
          "text": [
            "WARNING:absl:You are saving your model as an HDF5 file via `model.save()` or `keras.saving.save_model(model)`. This file format is considered legacy. We recommend using instead the native Keras format, e.g. `model.save('my_model.keras')` or `keras.saving.save_model(model, 'my_model.keras')`. \n"
          ]
        },
        {
          "name": "stdout",
          "output_type": "stream",
          "text": [
            "Test loss: 1.5684349536895752\n",
            "Test accuracy: 0.6852791905403137\n",
            "\u001b[1m13/13\u001b[0m \u001b[32m━━━━━━━━━━━━━━━━━━━━\u001b[0m\u001b[37m\u001b[0m \u001b[1m1s\u001b[0m 73ms/step\n",
            "              precision    recall  f1-score   support\n",
            "\n",
            "      glioma       0.25      0.07      0.11       100\n",
            "  meningioma       0.35      0.50      0.41       115\n",
            "    no_tumor       0.35      0.50      0.41       105\n",
            "   pituitary       0.25      0.18      0.21        74\n",
            "\n",
            "    accuracy                           0.33       394\n",
            "   macro avg       0.30      0.31      0.28       394\n",
            "weighted avg       0.31      0.33      0.30       394\n",
            "\n",
            "1-conv-128-nodes-0-dense-1732688459\n",
            "Epoch 1/20\n"
          ]
        },
        {
          "name": "stderr",
          "output_type": "stream",
          "text": [
            "/home/aishwaryakunche/.local/lib/python3.10/site-packages/keras/src/layers/convolutional/base_conv.py:107: UserWarning: Do not pass an `input_shape`/`input_dim` argument to a layer. When using Sequential models, prefer using an `Input(shape)` object as the first layer in the model instead.\n",
            "  super().__init__(activity_regularizer=activity_regularizer, **kwargs)\n"
          ]
        },
        {
          "name": "stdout",
          "output_type": "stream",
          "text": [
            "\u001b[1m90/90\u001b[0m \u001b[32m━━━━━━━━━━━━━━━━━━━━\u001b[0m\u001b[37m\u001b[0m \u001b[1m26s\u001b[0m 285ms/step - accuracy: 0.3547 - loss: 3.7857 - val_accuracy: 0.5660 - val_loss: 1.2606\n",
            "Epoch 2/20\n",
            "\u001b[1m90/90\u001b[0m \u001b[32m━━━━━━━━━━━━━━━━━━━━\u001b[0m\u001b[37m\u001b[0m \u001b[1m25s\u001b[0m 281ms/step - accuracy: 0.8000 - loss: 0.5169 - val_accuracy: 0.7081 - val_loss: 1.1609\n",
            "Epoch 3/20\n",
            "\u001b[1m90/90\u001b[0m \u001b[32m━━━━━━━━━━━━━━━━━━━━\u001b[0m\u001b[37m\u001b[0m \u001b[1m25s\u001b[0m 281ms/step - accuracy: 0.9317 - loss: 0.2413 - val_accuracy: 0.7081 - val_loss: 1.6665\n",
            "Epoch 4/20\n",
            "\u001b[1m90/90\u001b[0m \u001b[32m━━━━━━━━━━━━━━━━━━━━\u001b[0m\u001b[37m\u001b[0m \u001b[1m25s\u001b[0m 280ms/step - accuracy: 0.9724 - loss: 0.1254 - val_accuracy: 0.7360 - val_loss: 1.2468\n",
            "Epoch 5/20\n",
            "\u001b[1m90/90\u001b[0m \u001b[32m━━━━━━━━━━━━━━━━━━━━\u001b[0m\u001b[37m\u001b[0m \u001b[1m25s\u001b[0m 281ms/step - accuracy: 0.9922 - loss: 0.0466 - val_accuracy: 0.7437 - val_loss: 1.8934\n",
            "Epoch 5: early stopping\n",
            "\u001b[1m13/13\u001b[0m \u001b[32m━━━━━━━━━━━━━━━━━━━━\u001b[0m\u001b[37m\u001b[0m \u001b[1m1s\u001b[0m 69ms/step - accuracy: 0.7348 - loss: 2.0723\n"
          ]
        },
        {
          "name": "stderr",
          "output_type": "stream",
          "text": [
            "WARNING:absl:You are saving your model as an HDF5 file via `model.save()` or `keras.saving.save_model(model)`. This file format is considered legacy. We recommend using instead the native Keras format, e.g. `model.save('my_model.keras')` or `keras.saving.save_model(model, 'my_model.keras')`. \n"
          ]
        },
        {
          "name": "stdout",
          "output_type": "stream",
          "text": [
            "Test loss: 1.8934139013290405\n",
            "Test accuracy: 0.7436548471450806\n",
            "\u001b[1m13/13\u001b[0m \u001b[32m━━━━━━━━━━━━━━━━━━━━\u001b[0m\u001b[37m\u001b[0m \u001b[1m1s\u001b[0m 71ms/step\n",
            "              precision    recall  f1-score   support\n",
            "\n",
            "      glioma       0.18      0.04      0.07       100\n",
            "  meningioma       0.31      0.46      0.37       115\n",
            "    no_tumor       0.31      0.41      0.35       105\n",
            "   pituitary       0.19      0.16      0.17        74\n",
            "\n",
            "    accuracy                           0.28       394\n",
            "   macro avg       0.25      0.27      0.24       394\n",
            "weighted avg       0.26      0.28      0.25       394\n",
            "\n",
            "2-conv-128-nodes-0-dense-1732688589\n",
            "Epoch 1/20\n"
          ]
        },
        {
          "name": "stderr",
          "output_type": "stream",
          "text": [
            "/home/aishwaryakunche/.local/lib/python3.10/site-packages/keras/src/layers/convolutional/base_conv.py:107: UserWarning: Do not pass an `input_shape`/`input_dim` argument to a layer. When using Sequential models, prefer using an `Input(shape)` object as the first layer in the model instead.\n",
            "  super().__init__(activity_regularizer=activity_regularizer, **kwargs)\n"
          ]
        },
        {
          "name": "stdout",
          "output_type": "stream",
          "text": [
            "\u001b[1m90/90\u001b[0m \u001b[32m━━━━━━━━━━━━━━━━━━━━\u001b[0m\u001b[37m\u001b[0m \u001b[1m74s\u001b[0m 814ms/step - accuracy: 0.3656 - loss: 1.4308 - val_accuracy: 0.4036 - val_loss: 1.8510\n",
            "Epoch 2/20\n",
            "\u001b[1m90/90\u001b[0m \u001b[32m━━━━━━━━━━━━━━━━━━━━\u001b[0m\u001b[37m\u001b[0m \u001b[1m71s\u001b[0m 789ms/step - accuracy: 0.7149 - loss: 0.7028 - val_accuracy: 0.5964 - val_loss: 1.6596\n",
            "Epoch 3/20\n",
            "\u001b[1m90/90\u001b[0m \u001b[32m━━━━━━━━━━━━━━━━━━━━\u001b[0m\u001b[37m\u001b[0m \u001b[1m72s\u001b[0m 795ms/step - accuracy: 0.8236 - loss: 0.4564 - val_accuracy: 0.6701 - val_loss: 1.4345\n",
            "Epoch 4/20\n",
            "\u001b[1m90/90\u001b[0m \u001b[32m━━━━━━━━━━━━━━━━━━━━\u001b[0m\u001b[37m\u001b[0m \u001b[1m72s\u001b[0m 796ms/step - accuracy: 0.8909 - loss: 0.3052 - val_accuracy: 0.6726 - val_loss: 1.6938\n",
            "Epoch 5/20\n",
            "\u001b[1m90/90\u001b[0m \u001b[32m━━━━━━━━━━━━━━━━━━━━\u001b[0m\u001b[37m\u001b[0m \u001b[1m83s\u001b[0m 924ms/step - accuracy: 0.9202 - loss: 0.2120 - val_accuracy: 0.7056 - val_loss: 1.8242\n",
            "Epoch 5: early stopping\n",
            "\u001b[1m13/13\u001b[0m \u001b[32m━━━━━━━━━━━━━━━━━━━━\u001b[0m\u001b[37m\u001b[0m \u001b[1m2s\u001b[0m 185ms/step - accuracy: 0.7305 - loss: 1.7235\n"
          ]
        },
        {
          "name": "stderr",
          "output_type": "stream",
          "text": [
            "WARNING:absl:You are saving your model as an HDF5 file via `model.save()` or `keras.saving.save_model(model)`. This file format is considered legacy. We recommend using instead the native Keras format, e.g. `model.save('my_model.keras')` or `keras.saving.save_model(model, 'my_model.keras')`. \n"
          ]
        },
        {
          "name": "stdout",
          "output_type": "stream",
          "text": [
            "Test loss: 1.8241660594940186\n",
            "Test accuracy: 0.7055837512016296\n",
            "\u001b[1m13/13\u001b[0m \u001b[32m━━━━━━━━━━━━━━━━━━━━\u001b[0m\u001b[37m\u001b[0m \u001b[1m2s\u001b[0m 186ms/step\n",
            "              precision    recall  f1-score   support\n",
            "\n",
            "      glioma       0.21      0.05      0.08       100\n",
            "  meningioma       0.27      0.30      0.29       115\n",
            "    no_tumor       0.27      0.47      0.34       105\n",
            "   pituitary       0.18      0.14      0.15        74\n",
            "\n",
            "    accuracy                           0.25       394\n",
            "   macro avg       0.23      0.24      0.21       394\n",
            "weighted avg       0.24      0.25      0.22       394\n",
            "\n",
            "3-conv-128-nodes-0-dense-1732688966\n",
            "Epoch 1/20\n"
          ]
        },
        {
          "name": "stderr",
          "output_type": "stream",
          "text": [
            "/home/aishwaryakunche/.local/lib/python3.10/site-packages/keras/src/layers/convolutional/base_conv.py:107: UserWarning: Do not pass an `input_shape`/`input_dim` argument to a layer. When using Sequential models, prefer using an `Input(shape)` object as the first layer in the model instead.\n",
            "  super().__init__(activity_regularizer=activity_regularizer, **kwargs)\n"
          ]
        },
        {
          "name": "stdout",
          "output_type": "stream",
          "text": [
            "\u001b[1m90/90\u001b[0m \u001b[32m━━━━━━━━━━━━━━━━━━━━\u001b[0m\u001b[37m\u001b[0m \u001b[1m99s\u001b[0m 1s/step - accuracy: 0.3447 - loss: 1.3245 - val_accuracy: 0.4416 - val_loss: 1.4771\n",
            "Epoch 2/20\n",
            "\u001b[1m90/90\u001b[0m \u001b[32m━━━━━━━━━━━━━━━━━━━━\u001b[0m\u001b[37m\u001b[0m \u001b[1m104s\u001b[0m 1s/step - accuracy: 0.6975 - loss: 0.7593 - val_accuracy: 0.4315 - val_loss: 2.4168\n",
            "Epoch 3/20\n",
            "\u001b[1m90/90\u001b[0m \u001b[32m━━━━━━━━━━━━━━━━━━━━\u001b[0m\u001b[37m\u001b[0m \u001b[1m100s\u001b[0m 1s/step - accuracy: 0.7965 - loss: 0.5654 - val_accuracy: 0.5711 - val_loss: 1.7004\n",
            "Epoch 4/20\n",
            "\u001b[1m90/90\u001b[0m \u001b[32m━━━━━━━━━━━━━━━━━━━━\u001b[0m\u001b[37m\u001b[0m \u001b[1m104s\u001b[0m 1s/step - accuracy: 0.8342 - loss: 0.4648 - val_accuracy: 0.6472 - val_loss: 1.6051\n",
            "Epoch 5/20\n",
            "\u001b[1m90/90\u001b[0m \u001b[32m━━━━━━━━━━━━━━━━━━━━\u001b[0m\u001b[37m\u001b[0m \u001b[1m106s\u001b[0m 1s/step - accuracy: 0.8816 - loss: 0.3263 - val_accuracy: 0.6675 - val_loss: 1.9732\n",
            "Epoch 5: early stopping\n",
            "\u001b[1m13/13\u001b[0m \u001b[32m━━━━━━━━━━━━━━━━━━━━\u001b[0m\u001b[37m\u001b[0m \u001b[1m3s\u001b[0m 199ms/step - accuracy: 0.6609 - loss: 1.9246\n"
          ]
        },
        {
          "name": "stderr",
          "output_type": "stream",
          "text": [
            "WARNING:absl:You are saving your model as an HDF5 file via `model.save()` or `keras.saving.save_model(model)`. This file format is considered legacy. We recommend using instead the native Keras format, e.g. `model.save('my_model.keras')` or `keras.saving.save_model(model, 'my_model.keras')`. \n"
          ]
        },
        {
          "name": "stdout",
          "output_type": "stream",
          "text": [
            "Test loss: 1.9731552600860596\n",
            "Test accuracy: 0.6675127148628235\n",
            "\u001b[1m13/13\u001b[0m \u001b[32m━━━━━━━━━━━━━━━━━━━━\u001b[0m\u001b[37m\u001b[0m \u001b[1m3s\u001b[0m 204ms/step\n",
            "              precision    recall  f1-score   support\n",
            "\n",
            "      glioma       0.22      0.08      0.12       100\n",
            "  meningioma       0.26      0.36      0.30       115\n",
            "    no_tumor       0.23      0.30      0.26       105\n",
            "   pituitary       0.15      0.12      0.13        74\n",
            "\n",
            "    accuracy                           0.23       394\n",
            "   macro avg       0.21      0.22      0.20       394\n",
            "weighted avg       0.22      0.23      0.21       394\n",
            "\n",
            "1-conv-32-nodes-1-dense-1732689484\n",
            "Epoch 1/20\n"
          ]
        },
        {
          "name": "stderr",
          "output_type": "stream",
          "text": [
            "/home/aishwaryakunche/.local/lib/python3.10/site-packages/keras/src/layers/convolutional/base_conv.py:107: UserWarning: Do not pass an `input_shape`/`input_dim` argument to a layer. When using Sequential models, prefer using an `Input(shape)` object as the first layer in the model instead.\n",
            "  super().__init__(activity_regularizer=activity_regularizer, **kwargs)\n"
          ]
        },
        {
          "name": "stdout",
          "output_type": "stream",
          "text": [
            "\u001b[1m90/90\u001b[0m \u001b[32m━━━━━━━━━━━━━━━━━━━━\u001b[0m\u001b[37m\u001b[0m \u001b[1m10s\u001b[0m 100ms/step - accuracy: 0.3177 - loss: 2.1093 - val_accuracy: 0.4442 - val_loss: 1.2093\n",
            "Epoch 2/20\n",
            "\u001b[1m90/90\u001b[0m \u001b[32m━━━━━━━━━━━━━━━━━━━━\u001b[0m\u001b[37m\u001b[0m \u001b[1m11s\u001b[0m 125ms/step - accuracy: 0.4726 - loss: 1.0968 - val_accuracy: 0.4924 - val_loss: 1.3918\n",
            "Epoch 3/20\n",
            "\u001b[1m90/90\u001b[0m \u001b[32m━━━━━━━━━━━━━━━━━━━━\u001b[0m\u001b[37m\u001b[0m \u001b[1m12s\u001b[0m 136ms/step - accuracy: 0.6661 - loss: 0.7792 - val_accuracy: 0.5888 - val_loss: 1.2850\n",
            "Epoch 4/20\n",
            "\u001b[1m90/90\u001b[0m \u001b[32m━━━━━━━━━━━━━━━━━━━━\u001b[0m\u001b[37m\u001b[0m \u001b[1m10s\u001b[0m 108ms/step - accuracy: 0.7084 - loss: 0.6352 - val_accuracy: 0.6244 - val_loss: 1.2225\n",
            "Epoch 5/20\n",
            "\u001b[1m90/90\u001b[0m \u001b[32m━━━━━━━━━━━━━━━━━━━━\u001b[0m\u001b[37m\u001b[0m \u001b[1m9s\u001b[0m 99ms/step - accuracy: 0.7714 - loss: 0.5296 - val_accuracy: 0.7056 - val_loss: 1.1420\n",
            "Epoch 5: early stopping\n",
            "\u001b[1m13/13\u001b[0m \u001b[32m━━━━━━━━━━━━━━━━━━━━\u001b[0m\u001b[37m\u001b[0m \u001b[1m0s\u001b[0m 28ms/step - accuracy: 0.6959 - loss: 1.3011\n"
          ]
        },
        {
          "name": "stderr",
          "output_type": "stream",
          "text": [
            "WARNING:absl:You are saving your model as an HDF5 file via `model.save()` or `keras.saving.save_model(model)`. This file format is considered legacy. We recommend using instead the native Keras format, e.g. `model.save('my_model.keras')` or `keras.saving.save_model(model, 'my_model.keras')`. \n"
          ]
        },
        {
          "name": "stdout",
          "output_type": "stream",
          "text": [
            "Test loss: 1.1419899463653564\n",
            "Test accuracy: 0.7055837512016296\n",
            "\u001b[1m13/13\u001b[0m \u001b[32m━━━━━━━━━━━━━━━━━━━━\u001b[0m\u001b[37m\u001b[0m \u001b[1m0s\u001b[0m 30ms/step\n",
            "              precision    recall  f1-score   support\n",
            "\n",
            "      glioma       0.26      0.10      0.14       100\n",
            "  meningioma       0.27      0.34      0.30       115\n",
            "    no_tumor       0.24      0.33      0.28       105\n",
            "   pituitary       0.16      0.15      0.15        74\n",
            "\n",
            "    accuracy                           0.24       394\n",
            "   macro avg       0.23      0.23      0.22       394\n",
            "weighted avg       0.24      0.24      0.23       394\n",
            "\n",
            "2-conv-32-nodes-1-dense-1732689537\n",
            "Epoch 1/20\n"
          ]
        },
        {
          "name": "stderr",
          "output_type": "stream",
          "text": [
            "/home/aishwaryakunche/.local/lib/python3.10/site-packages/keras/src/layers/convolutional/base_conv.py:107: UserWarning: Do not pass an `input_shape`/`input_dim` argument to a layer. When using Sequential models, prefer using an `Input(shape)` object as the first layer in the model instead.\n",
            "  super().__init__(activity_regularizer=activity_regularizer, **kwargs)\n"
          ]
        },
        {
          "name": "stdout",
          "output_type": "stream",
          "text": [
            "\u001b[1m90/90\u001b[0m \u001b[32m━━━━━━━━━━━━━━━━━━━━\u001b[0m\u001b[37m\u001b[0m \u001b[1m11s\u001b[0m 111ms/step - accuracy: 0.2936 - loss: 1.5089 - val_accuracy: 0.2995 - val_loss: 1.3403\n",
            "Epoch 2/20\n",
            "\u001b[1m90/90\u001b[0m \u001b[32m━━━━━━━━━━━━━━━━━━━━\u001b[0m\u001b[37m\u001b[0m \u001b[1m15s\u001b[0m 167ms/step - accuracy: 0.4595 - loss: 1.1105 - val_accuracy: 0.4442 - val_loss: 1.2781\n",
            "Epoch 3/20\n",
            "\u001b[1m90/90\u001b[0m \u001b[32m━━━━━━━━━━━━━━━━━━━━\u001b[0m\u001b[37m\u001b[0m \u001b[1m11s\u001b[0m 116ms/step - accuracy: 0.6243 - loss: 0.9341 - val_accuracy: 0.4162 - val_loss: 1.2551\n",
            "Epoch 4/20\n",
            "\u001b[1m90/90\u001b[0m \u001b[32m━━━━━━━━━━━━━━━━━━━━\u001b[0m\u001b[37m\u001b[0m \u001b[1m9s\u001b[0m 97ms/step - accuracy: 0.6163 - loss: 0.8773 - val_accuracy: 0.4188 - val_loss: 1.2935\n",
            "Epoch 5/20\n",
            "\u001b[1m90/90\u001b[0m \u001b[32m━━━━━━━━━━━━━━━━━━━━\u001b[0m\u001b[37m\u001b[0m \u001b[1m12s\u001b[0m 133ms/step - accuracy: 0.6450 - loss: 0.8238 - val_accuracy: 0.5102 - val_loss: 1.1925\n",
            "Epoch 5: early stopping\n",
            "\u001b[1m13/13\u001b[0m \u001b[32m━━━━━━━━━━━━━━━━━━━━\u001b[0m\u001b[37m\u001b[0m \u001b[1m1s\u001b[0m 43ms/step - accuracy: 0.4858 - loss: 1.1927\n"
          ]
        },
        {
          "name": "stderr",
          "output_type": "stream",
          "text": [
            "WARNING:absl:You are saving your model as an HDF5 file via `model.save()` or `keras.saving.save_model(model)`. This file format is considered legacy. We recommend using instead the native Keras format, e.g. `model.save('my_model.keras')` or `keras.saving.save_model(model, 'my_model.keras')`. \n"
          ]
        },
        {
          "name": "stdout",
          "output_type": "stream",
          "text": [
            "Test loss: 1.192528247833252\n",
            "Test accuracy: 0.510152280330658\n",
            "\u001b[1m13/13\u001b[0m \u001b[32m━━━━━━━━━━━━━━━━━━━━\u001b[0m\u001b[37m\u001b[0m \u001b[1m1s\u001b[0m 47ms/step\n",
            "              precision    recall  f1-score   support\n",
            "\n",
            "      glioma       0.25      0.13      0.17       100\n",
            "  meningioma       0.26      0.17      0.20       115\n",
            "    no_tumor       0.25      0.47      0.33       105\n",
            "   pituitary       0.22      0.23      0.23        74\n",
            "\n",
            "    accuracy                           0.25       394\n",
            "   macro avg       0.25      0.25      0.23       394\n",
            "weighted avg       0.25      0.25      0.23       394\n",
            "\n",
            "3-conv-32-nodes-1-dense-1732689597\n"
          ]
        },
        {
          "name": "stderr",
          "output_type": "stream",
          "text": [
            "/home/aishwaryakunche/.local/lib/python3.10/site-packages/keras/src/layers/convolutional/base_conv.py:107: UserWarning: Do not pass an `input_shape`/`input_dim` argument to a layer. When using Sequential models, prefer using an `Input(shape)` object as the first layer in the model instead.\n",
            "  super().__init__(activity_regularizer=activity_regularizer, **kwargs)\n"
          ]
        },
        {
          "name": "stdout",
          "output_type": "stream",
          "text": [
            "Epoch 1/20\n",
            "\u001b[1m90/90\u001b[0m \u001b[32m━━━━━━━━━━━━━━━━━━━━\u001b[0m\u001b[37m\u001b[0m \u001b[1m15s\u001b[0m 154ms/step - accuracy: 0.2962 - loss: 1.3693 - val_accuracy: 0.3832 - val_loss: 1.2839\n",
            "Epoch 2/20\n",
            "\u001b[1m90/90\u001b[0m \u001b[32m━━━━━━━━━━━━━━━━━━━━\u001b[0m\u001b[37m\u001b[0m \u001b[1m9s\u001b[0m 96ms/step - accuracy: 0.5294 - loss: 1.0593 - val_accuracy: 0.4264 - val_loss: 1.8073\n",
            "Epoch 3/20\n",
            "\u001b[1m90/90\u001b[0m \u001b[32m━━━━━━━━━━━━━━━━━━━━\u001b[0m\u001b[37m\u001b[0m \u001b[1m9s\u001b[0m 95ms/step - accuracy: 0.5863 - loss: 0.8984 - val_accuracy: 0.4670 - val_loss: 1.5074\n",
            "Epoch 4/20\n",
            "\u001b[1m90/90\u001b[0m \u001b[32m━━━━━━━━━━━━━━━━━━━━\u001b[0m\u001b[37m\u001b[0m \u001b[1m16s\u001b[0m 172ms/step - accuracy: 0.6414 - loss: 0.8020 - val_accuracy: 0.4594 - val_loss: 1.7879\n",
            "Epoch 5/20\n",
            "\u001b[1m90/90\u001b[0m \u001b[32m━━━━━━━━━━━━━━━━━━━━\u001b[0m\u001b[37m\u001b[0m \u001b[1m11s\u001b[0m 124ms/step - accuracy: 0.7112 - loss: 0.6710 - val_accuracy: 0.5685 - val_loss: 1.4392\n",
            "Epoch 5: early stopping\n",
            "\u001b[1m13/13\u001b[0m \u001b[32m━━━━━━━━━━━━━━━━━━━━\u001b[0m\u001b[37m\u001b[0m \u001b[1m0s\u001b[0m 31ms/step - accuracy: 0.5853 - loss: 1.3928\n"
          ]
        },
        {
          "name": "stderr",
          "output_type": "stream",
          "text": [
            "WARNING:absl:You are saving your model as an HDF5 file via `model.save()` or `keras.saving.save_model(model)`. This file format is considered legacy. We recommend using instead the native Keras format, e.g. `model.save('my_model.keras')` or `keras.saving.save_model(model, 'my_model.keras')`. \n"
          ]
        },
        {
          "name": "stdout",
          "output_type": "stream",
          "text": [
            "Test loss: 1.4391940832138062\n",
            "Test accuracy: 0.5685279369354248\n",
            "\u001b[1m13/13\u001b[0m \u001b[32m━━━━━━━━━━━━━━━━━━━━\u001b[0m\u001b[37m\u001b[0m \u001b[1m1s\u001b[0m 38ms/step\n",
            "              precision    recall  f1-score   support\n",
            "\n",
            "      glioma       0.28      0.10      0.15       100\n",
            "  meningioma       0.30      0.34      0.32       115\n",
            "    no_tumor       0.27      0.44      0.33       105\n",
            "   pituitary       0.07      0.05      0.06        74\n",
            "\n",
            "    accuracy                           0.25       394\n",
            "   macro avg       0.23      0.23      0.21       394\n",
            "weighted avg       0.24      0.25      0.23       394\n",
            "\n",
            "1-conv-64-nodes-1-dense-1732689657\n",
            "Epoch 1/20\n"
          ]
        },
        {
          "name": "stderr",
          "output_type": "stream",
          "text": [
            "/home/aishwaryakunche/.local/lib/python3.10/site-packages/keras/src/layers/convolutional/base_conv.py:107: UserWarning: Do not pass an `input_shape`/`input_dim` argument to a layer. When using Sequential models, prefer using an `Input(shape)` object as the first layer in the model instead.\n",
            "  super().__init__(activity_regularizer=activity_regularizer, **kwargs)\n"
          ]
        },
        {
          "name": "stdout",
          "output_type": "stream",
          "text": [
            "\u001b[1m90/90\u001b[0m \u001b[32m━━━━━━━━━━━━━━━━━━━━\u001b[0m\u001b[37m\u001b[0m \u001b[1m28s\u001b[0m 307ms/step - accuracy: 0.2763 - loss: 3.8169 - val_accuracy: 0.2868 - val_loss: 1.3247\n",
            "Epoch 2/20\n",
            "\u001b[1m90/90\u001b[0m \u001b[32m━━━━━━━━━━━━━━━━━━━━\u001b[0m\u001b[37m\u001b[0m \u001b[1m27s\u001b[0m 292ms/step - accuracy: 0.3587 - loss: 1.3222 - val_accuracy: 0.3655 - val_loss: 1.2849\n",
            "Epoch 3/20\n",
            "\u001b[1m90/90\u001b[0m \u001b[32m━━━━━━━━━━━━━━━━━━━━\u001b[0m\u001b[37m\u001b[0m \u001b[1m30s\u001b[0m 330ms/step - accuracy: 0.4474 - loss: 1.2735 - val_accuracy: 0.4213 - val_loss: 1.2512\n",
            "Epoch 4/20\n",
            "\u001b[1m90/90\u001b[0m \u001b[32m━━━━━━━━━━━━━━━━━━━━\u001b[0m\u001b[37m\u001b[0m \u001b[1m26s\u001b[0m 292ms/step - accuracy: 0.4576 - loss: 1.2464 - val_accuracy: 0.4112 - val_loss: 1.2290\n",
            "Epoch 5/20\n",
            "\u001b[1m90/90\u001b[0m \u001b[32m━━━━━━━━━━━━━━━━━━━━\u001b[0m\u001b[37m\u001b[0m \u001b[1m28s\u001b[0m 306ms/step - accuracy: 0.4709 - loss: 1.1935 - val_accuracy: 0.4721 - val_loss: 1.1828\n",
            "Epoch 5: early stopping\n",
            "\u001b[1m13/13\u001b[0m \u001b[32m━━━━━━━━━━━━━━━━━━━━\u001b[0m\u001b[37m\u001b[0m \u001b[1m1s\u001b[0m 46ms/step - accuracy: 0.4746 - loss: 1.1770\n"
          ]
        },
        {
          "name": "stderr",
          "output_type": "stream",
          "text": [
            "WARNING:absl:You are saving your model as an HDF5 file via `model.save()` or `keras.saving.save_model(model)`. This file format is considered legacy. We recommend using instead the native Keras format, e.g. `model.save('my_model.keras')` or `keras.saving.save_model(model, 'my_model.keras')`. \n"
          ]
        },
        {
          "name": "stdout",
          "output_type": "stream",
          "text": [
            "Test loss: 1.1828030347824097\n",
            "Test accuracy: 0.4720812141895294\n",
            "\u001b[1m13/13\u001b[0m \u001b[32m━━━━━━━━━━━━━━━━━━━━\u001b[0m\u001b[37m\u001b[0m \u001b[1m1s\u001b[0m 48ms/step\n",
            "              precision    recall  f1-score   support\n",
            "\n",
            "      glioma       0.23      0.20      0.21       100\n",
            "  meningioma       0.27      0.52      0.36       115\n",
            "    no_tumor       0.00      0.00      0.00       105\n",
            "   pituitary       0.16      0.18      0.17        74\n",
            "\n",
            "    accuracy                           0.24       394\n",
            "   macro avg       0.16      0.22      0.18       394\n",
            "weighted avg       0.17      0.24      0.19       394\n",
            "\n",
            "2-conv-64-nodes-1-dense-1732689798\n",
            "Epoch 1/20\n"
          ]
        },
        {
          "name": "stderr",
          "output_type": "stream",
          "text": [
            "/home/aishwaryakunche/.local/lib/python3.10/site-packages/sklearn/metrics/_classification.py:1471: UndefinedMetricWarning: Precision and F-score are ill-defined and being set to 0.0 in labels with no predicted samples. Use `zero_division` parameter to control this behavior.\n",
            "  _warn_prf(average, modifier, msg_start, len(result))\n",
            "/home/aishwaryakunche/.local/lib/python3.10/site-packages/sklearn/metrics/_classification.py:1471: UndefinedMetricWarning: Precision and F-score are ill-defined and being set to 0.0 in labels with no predicted samples. Use `zero_division` parameter to control this behavior.\n",
            "  _warn_prf(average, modifier, msg_start, len(result))\n",
            "/home/aishwaryakunche/.local/lib/python3.10/site-packages/sklearn/metrics/_classification.py:1471: UndefinedMetricWarning: Precision and F-score are ill-defined and being set to 0.0 in labels with no predicted samples. Use `zero_division` parameter to control this behavior.\n",
            "  _warn_prf(average, modifier, msg_start, len(result))\n",
            "/home/aishwaryakunche/.local/lib/python3.10/site-packages/keras/src/layers/convolutional/base_conv.py:107: UserWarning: Do not pass an `input_shape`/`input_dim` argument to a layer. When using Sequential models, prefer using an `Input(shape)` object as the first layer in the model instead.\n",
            "  super().__init__(activity_regularizer=activity_regularizer, **kwargs)\n"
          ]
        },
        {
          "name": "stdout",
          "output_type": "stream",
          "text": [
            "\u001b[1m90/90\u001b[0m \u001b[32m━━━━━━━━━━━━━━━━━━━━\u001b[0m\u001b[37m\u001b[0m \u001b[1m35s\u001b[0m 385ms/step - accuracy: 0.3903 - loss: 1.4995 - val_accuracy: 0.5152 - val_loss: 1.1534\n",
            "Epoch 2/20\n",
            "\u001b[1m90/90\u001b[0m \u001b[32m━━━━━━━━━━━━━━━━━━━━\u001b[0m\u001b[37m\u001b[0m \u001b[1m30s\u001b[0m 333ms/step - accuracy: 0.6872 - loss: 0.7895 - val_accuracy: 0.4721 - val_loss: 1.4333\n",
            "Epoch 3/20\n",
            "\u001b[1m90/90\u001b[0m \u001b[32m━━━━━━━━━━━━━━━━━━━━\u001b[0m\u001b[37m\u001b[0m \u001b[1m30s\u001b[0m 327ms/step - accuracy: 0.7756 - loss: 0.5861 - val_accuracy: 0.6091 - val_loss: 1.4865\n",
            "Epoch 4/20\n",
            "\u001b[1m90/90\u001b[0m \u001b[32m━━━━━━━━━━━━━━━━━━━━\u001b[0m\u001b[37m\u001b[0m \u001b[1m33s\u001b[0m 366ms/step - accuracy: 0.8402 - loss: 0.4283 - val_accuracy: 0.6371 - val_loss: 1.9297\n",
            "Epoch 5/20\n",
            "\u001b[1m90/90\u001b[0m \u001b[32m━━━━━━━━━━━━━━━━━━━━\u001b[0m\u001b[37m\u001b[0m \u001b[1m33s\u001b[0m 370ms/step - accuracy: 0.8591 - loss: 0.3429 - val_accuracy: 0.7030 - val_loss: 1.9606\n",
            "Epoch 5: early stopping\n",
            "\u001b[1m13/13\u001b[0m \u001b[32m━━━━━━━━━━━━━━━━━━━━\u001b[0m\u001b[37m\u001b[0m \u001b[1m1s\u001b[0m 66ms/step - accuracy: 0.6997 - loss: 1.9600\n"
          ]
        },
        {
          "name": "stderr",
          "output_type": "stream",
          "text": [
            "WARNING:absl:You are saving your model as an HDF5 file via `model.save()` or `keras.saving.save_model(model)`. This file format is considered legacy. We recommend using instead the native Keras format, e.g. `model.save('my_model.keras')` or `keras.saving.save_model(model, 'my_model.keras')`. \n"
          ]
        },
        {
          "name": "stdout",
          "output_type": "stream",
          "text": [
            "Test loss: 1.960636854171753\n",
            "Test accuracy: 0.703045666217804\n",
            "\u001b[1m13/13\u001b[0m \u001b[32m━━━━━━━━━━━━━━━━━━━━\u001b[0m\u001b[37m\u001b[0m \u001b[1m1s\u001b[0m 69ms/step\n",
            "              precision    recall  f1-score   support\n",
            "\n",
            "      glioma       0.42      0.11      0.17       100\n",
            "  meningioma       0.27      0.37      0.31       115\n",
            "    no_tumor       0.26      0.39      0.31       105\n",
            "   pituitary       0.12      0.08      0.10        74\n",
            "\n",
            "    accuracy                           0.26       394\n",
            "   macro avg       0.27      0.24      0.22       394\n",
            "weighted avg       0.28      0.26      0.24       394\n",
            "\n",
            "3-conv-64-nodes-1-dense-1732689961\n",
            "Epoch 1/20\n"
          ]
        },
        {
          "name": "stderr",
          "output_type": "stream",
          "text": [
            "/home/aishwaryakunche/.local/lib/python3.10/site-packages/keras/src/layers/convolutional/base_conv.py:107: UserWarning: Do not pass an `input_shape`/`input_dim` argument to a layer. When using Sequential models, prefer using an `Input(shape)` object as the first layer in the model instead.\n",
            "  super().__init__(activity_regularizer=activity_regularizer, **kwargs)\n"
          ]
        },
        {
          "name": "stdout",
          "output_type": "stream",
          "text": [
            "\u001b[1m90/90\u001b[0m \u001b[32m━━━━━━━━━━━━━━━━━━━━\u001b[0m\u001b[37m\u001b[0m \u001b[1m35s\u001b[0m 387ms/step - accuracy: 0.3090 - loss: 1.3529 - val_accuracy: 0.4340 - val_loss: 1.3964\n",
            "Epoch 2/20\n",
            "\u001b[1m90/90\u001b[0m \u001b[32m━━━━━━━━━━━━━━━━━━━━\u001b[0m\u001b[37m\u001b[0m \u001b[1m27s\u001b[0m 301ms/step - accuracy: 0.5865 - loss: 0.9528 - val_accuracy: 0.4822 - val_loss: 1.4922\n",
            "Epoch 3/20\n",
            "\u001b[1m90/90\u001b[0m \u001b[32m━━━━━━━━━━━━━━━━━━━━\u001b[0m\u001b[37m\u001b[0m \u001b[1m31s\u001b[0m 345ms/step - accuracy: 0.7027 - loss: 0.7291 - val_accuracy: 0.4924 - val_loss: 1.3973\n",
            "Epoch 4/20\n",
            "\u001b[1m90/90\u001b[0m \u001b[32m━━━━━━━━━━━━━━━━━━━━\u001b[0m\u001b[37m\u001b[0m \u001b[1m37s\u001b[0m 407ms/step - accuracy: 0.7547 - loss: 0.5972 - val_accuracy: 0.5406 - val_loss: 1.4240\n",
            "Epoch 5/20\n",
            "\u001b[1m90/90\u001b[0m \u001b[32m━━━━━━━━━━━━━━━━━━━━\u001b[0m\u001b[37m\u001b[0m \u001b[1m32s\u001b[0m 359ms/step - accuracy: 0.7847 - loss: 0.5152 - val_accuracy: 0.6523 - val_loss: 1.4833\n",
            "Epoch 5: early stopping\n",
            "\u001b[1m13/13\u001b[0m \u001b[32m━━━━━━━━━━━━━━━━━━━━\u001b[0m\u001b[37m\u001b[0m \u001b[1m2s\u001b[0m 120ms/step - accuracy: 0.6615 - loss: 1.4439\n"
          ]
        },
        {
          "name": "stderr",
          "output_type": "stream",
          "text": [
            "WARNING:absl:You are saving your model as an HDF5 file via `model.save()` or `keras.saving.save_model(model)`. This file format is considered legacy. We recommend using instead the native Keras format, e.g. `model.save('my_model.keras')` or `keras.saving.save_model(model, 'my_model.keras')`. \n"
          ]
        },
        {
          "name": "stdout",
          "output_type": "stream",
          "text": [
            "Test loss: 1.4832556247711182\n",
            "Test accuracy: 0.6522842645645142\n",
            "\u001b[1m13/13\u001b[0m \u001b[32m━━━━━━━━━━━━━━━━━━━━\u001b[0m\u001b[37m\u001b[0m \u001b[1m2s\u001b[0m 128ms/step\n",
            "              precision    recall  f1-score   support\n",
            "\n",
            "      glioma       0.24      0.05      0.08       100\n",
            "  meningioma       0.29      0.36      0.32       115\n",
            "    no_tumor       0.28      0.46      0.35       105\n",
            "   pituitary       0.15      0.12      0.13        74\n",
            "\n",
            "    accuracy                           0.26       394\n",
            "   macro avg       0.24      0.25      0.22       394\n",
            "weighted avg       0.25      0.26      0.23       394\n",
            "\n",
            "1-conv-128-nodes-1-dense-1732690128\n"
          ]
        },
        {
          "name": "stderr",
          "output_type": "stream",
          "text": [
            "/home/aishwaryakunche/.local/lib/python3.10/site-packages/keras/src/layers/convolutional/base_conv.py:107: UserWarning: Do not pass an `input_shape`/`input_dim` argument to a layer. When using Sequential models, prefer using an `Input(shape)` object as the first layer in the model instead.\n",
            "  super().__init__(activity_regularizer=activity_regularizer, **kwargs)\n"
          ]
        },
        {
          "name": "stdout",
          "output_type": "stream",
          "text": [
            "Epoch 1/20\n",
            "\u001b[1m90/90\u001b[0m \u001b[32m━━━━━━━━━━━━━━━━━━━━\u001b[0m\u001b[37m\u001b[0m \u001b[1m83s\u001b[0m 909ms/step - accuracy: 0.3557 - loss: 6.1157 - val_accuracy: 0.5254 - val_loss: 1.2326\n",
            "Epoch 2/20\n",
            "\u001b[1m90/90\u001b[0m \u001b[32m━━━━━━━━━━━━━━━━━━━━\u001b[0m\u001b[37m\u001b[0m \u001b[1m81s\u001b[0m 899ms/step - accuracy: 0.7427 - loss: 0.6831 - val_accuracy: 0.6472 - val_loss: 1.1596\n",
            "Epoch 3/20\n",
            "\u001b[1m90/90\u001b[0m \u001b[32m━━━━━━━━━━━━━━━━━━━━\u001b[0m\u001b[37m\u001b[0m \u001b[1m83s\u001b[0m 916ms/step - accuracy: 0.8885 - loss: 0.3405 - val_accuracy: 0.7360 - val_loss: 1.0299\n",
            "Epoch 4/20\n",
            "\u001b[1m90/90\u001b[0m \u001b[32m━━━━━━━━━━━━━━━━━━━━\u001b[0m\u001b[37m\u001b[0m \u001b[1m83s\u001b[0m 923ms/step - accuracy: 0.9422 - loss: 0.1974 - val_accuracy: 0.7360 - val_loss: 1.5175\n",
            "Epoch 5/20\n",
            "\u001b[1m90/90\u001b[0m \u001b[32m━━━━━━━━━━━━━━━━━━━━\u001b[0m\u001b[37m\u001b[0m \u001b[1m81s\u001b[0m 900ms/step - accuracy: 0.9758 - loss: 0.0983 - val_accuracy: 0.7614 - val_loss: 1.2696\n",
            "Epoch 6/20\n",
            "\u001b[1m90/90\u001b[0m \u001b[32m━━━━━━━━━━━━━━━━━━━━\u001b[0m\u001b[37m\u001b[0m \u001b[1m81s\u001b[0m 901ms/step - accuracy: 0.9804 - loss: 0.0745 - val_accuracy: 0.7132 - val_loss: 2.1970\n",
            "Epoch 7/20\n",
            "\u001b[1m90/90\u001b[0m \u001b[32m━━━━━━━━━━━━━━━━━━━━\u001b[0m\u001b[37m\u001b[0m \u001b[1m82s\u001b[0m 910ms/step - accuracy: 0.9908 - loss: 0.0474 - val_accuracy: 0.7614 - val_loss: 2.0397\n",
            "Epoch 8/20\n",
            "\u001b[1m90/90\u001b[0m \u001b[32m━━━━━━━━━━━━━━━━━━━━\u001b[0m\u001b[37m\u001b[0m \u001b[1m82s\u001b[0m 910ms/step - accuracy: 0.9952 - loss: 0.0271 - val_accuracy: 0.7081 - val_loss: 2.5597\n",
            "Epoch 8: early stopping\n",
            "\u001b[1m13/13\u001b[0m \u001b[32m━━━━━━━━━━━━━━━━━━━━\u001b[0m\u001b[37m\u001b[0m \u001b[1m1s\u001b[0m 103ms/step - accuracy: 0.7075 - loss: 2.6331\n"
          ]
        },
        {
          "name": "stderr",
          "output_type": "stream",
          "text": [
            "WARNING:absl:You are saving your model as an HDF5 file via `model.save()` or `keras.saving.save_model(model)`. This file format is considered legacy. We recommend using instead the native Keras format, e.g. `model.save('my_model.keras')` or `keras.saving.save_model(model, 'my_model.keras')`. \n"
          ]
        },
        {
          "name": "stdout",
          "output_type": "stream",
          "text": [
            "Test loss: 2.5597338676452637\n",
            "Test accuracy: 0.7081218361854553\n",
            "\u001b[1m13/13\u001b[0m \u001b[32m━━━━━━━━━━━━━━━━━━━━\u001b[0m\u001b[37m\u001b[0m \u001b[1m1s\u001b[0m 102ms/step\n",
            "              precision    recall  f1-score   support\n",
            "\n",
            "      glioma       0.38      0.08      0.13       100\n",
            "  meningioma       0.30      0.38      0.34       115\n",
            "    no_tumor       0.27      0.46      0.34       105\n",
            "   pituitary       0.19      0.12      0.15        74\n",
            "\n",
            "    accuracy                           0.28       394\n",
            "   macro avg       0.28      0.26      0.24       394\n",
            "weighted avg       0.29      0.28      0.25       394\n",
            "\n",
            "2-conv-128-nodes-1-dense-1732690790\n",
            "Epoch 1/20\n"
          ]
        },
        {
          "name": "stderr",
          "output_type": "stream",
          "text": [
            "/home/aishwaryakunche/.local/lib/python3.10/site-packages/keras/src/layers/convolutional/base_conv.py:107: UserWarning: Do not pass an `input_shape`/`input_dim` argument to a layer. When using Sequential models, prefer using an `Input(shape)` object as the first layer in the model instead.\n",
            "  super().__init__(activity_regularizer=activity_regularizer, **kwargs)\n"
          ]
        },
        {
          "name": "stdout",
          "output_type": "stream",
          "text": [
            "\u001b[1m90/90\u001b[0m \u001b[32m━━━━━━━━━━━━━━━━━━━━\u001b[0m\u001b[37m\u001b[0m \u001b[1m112s\u001b[0m 1s/step - accuracy: 0.3753 - loss: 1.5475 - val_accuracy: 0.4340 - val_loss: 1.3859\n",
            "Epoch 2/20\n",
            "\u001b[1m90/90\u001b[0m \u001b[32m━━━━━━━━━━━━━━━━━━━━\u001b[0m\u001b[37m\u001b[0m \u001b[1m114s\u001b[0m 1s/step - accuracy: 0.6714 - loss: 0.7889 - val_accuracy: 0.4949 - val_loss: 1.8422\n",
            "Epoch 3/20\n",
            "\u001b[1m90/90\u001b[0m \u001b[32m━━━━━━━━━━━━━━━━━━━━\u001b[0m\u001b[37m\u001b[0m \u001b[1m107s\u001b[0m 1s/step - accuracy: 0.7953 - loss: 0.5189 - val_accuracy: 0.6269 - val_loss: 1.5444\n",
            "Epoch 4/20\n",
            "\u001b[1m90/90\u001b[0m \u001b[32m━━━━━━━━━━━━━━━━━━━━\u001b[0m\u001b[37m\u001b[0m \u001b[1m110s\u001b[0m 1s/step - accuracy: 0.8499 - loss: 0.3859 - val_accuracy: 0.6878 - val_loss: 1.3543\n",
            "Epoch 5/20\n",
            "\u001b[1m90/90\u001b[0m \u001b[32m━━━━━━━━━━━━━━━━━━━━\u001b[0m\u001b[37m\u001b[0m \u001b[1m107s\u001b[0m 1s/step - accuracy: 0.9138 - loss: 0.2436 - val_accuracy: 0.7487 - val_loss: 1.3390\n",
            "Epoch 5: early stopping\n",
            "\u001b[1m13/13\u001b[0m \u001b[32m━━━━━━━━━━━━━━━━━━━━\u001b[0m\u001b[37m\u001b[0m \u001b[1m3s\u001b[0m 245ms/step - accuracy: 0.7562 - loss: 1.3477\n"
          ]
        },
        {
          "name": "stderr",
          "output_type": "stream",
          "text": [
            "WARNING:absl:You are saving your model as an HDF5 file via `model.save()` or `keras.saving.save_model(model)`. This file format is considered legacy. We recommend using instead the native Keras format, e.g. `model.save('my_model.keras')` or `keras.saving.save_model(model, 'my_model.keras')`. \n"
          ]
        },
        {
          "name": "stdout",
          "output_type": "stream",
          "text": [
            "Test loss: 1.3390437364578247\n",
            "Test accuracy: 0.7487309575080872\n",
            "\u001b[1m13/13\u001b[0m \u001b[32m━━━━━━━━━━━━━━━━━━━━\u001b[0m\u001b[37m\u001b[0m \u001b[1m5s\u001b[0m 352ms/step\n",
            "              precision    recall  f1-score   support\n",
            "\n",
            "      glioma       0.25      0.10      0.14       100\n",
            "  meningioma       0.33      0.43      0.37       115\n",
            "    no_tumor       0.28      0.35      0.31       105\n",
            "   pituitary       0.22      0.23      0.23        74\n",
            "\n",
            "    accuracy                           0.29       394\n",
            "   macro avg       0.27      0.28      0.26       394\n",
            "weighted avg       0.28      0.29      0.27       394\n",
            "\n",
            "3-conv-128-nodes-1-dense-1732691348\n"
          ]
        },
        {
          "name": "stderr",
          "output_type": "stream",
          "text": [
            "/home/aishwaryakunche/.local/lib/python3.10/site-packages/keras/src/layers/convolutional/base_conv.py:107: UserWarning: Do not pass an `input_shape`/`input_dim` argument to a layer. When using Sequential models, prefer using an `Input(shape)` object as the first layer in the model instead.\n",
            "  super().__init__(activity_regularizer=activity_regularizer, **kwargs)\n"
          ]
        },
        {
          "name": "stdout",
          "output_type": "stream",
          "text": [
            "Epoch 1/20\n",
            "\u001b[1m90/90\u001b[0m \u001b[32m━━━━━━━━━━━━━━━━━━━━\u001b[0m\u001b[37m\u001b[0m \u001b[1m114s\u001b[0m 1s/step - accuracy: 0.3359 - loss: 1.3511 - val_accuracy: 0.3858 - val_loss: 1.7011\n",
            "Epoch 2/20\n",
            "\u001b[1m90/90\u001b[0m \u001b[32m━━━━━━━━━━━━━━━━━━━━\u001b[0m\u001b[37m\u001b[0m \u001b[1m108s\u001b[0m 1s/step - accuracy: 0.6517 - loss: 0.8563 - val_accuracy: 0.5102 - val_loss: 1.4283\n",
            "Epoch 3/20\n",
            "\u001b[1m90/90\u001b[0m \u001b[32m━━━━━━━━━━━━━━━━━━━━\u001b[0m\u001b[37m\u001b[0m \u001b[1m119s\u001b[0m 1s/step - accuracy: 0.7402 - loss: 0.6605 - val_accuracy: 0.5787 - val_loss: 1.2221\n",
            "Epoch 4/20\n",
            "\u001b[1m90/90\u001b[0m \u001b[32m━━━━━━━━━━━━━━━━━━━━\u001b[0m\u001b[37m\u001b[0m \u001b[1m106s\u001b[0m 1s/step - accuracy: 0.8177 - loss: 0.4750 - val_accuracy: 0.5964 - val_loss: 1.3561\n",
            "Epoch 5/20\n",
            "\u001b[1m90/90\u001b[0m \u001b[32m━━━━━━━━━━━━━━━━━━━━\u001b[0m\u001b[37m\u001b[0m \u001b[1m112s\u001b[0m 1s/step - accuracy: 0.8587 - loss: 0.3723 - val_accuracy: 0.6726 - val_loss: 1.6642\n",
            "Epoch 5: early stopping\n",
            "\u001b[1m13/13\u001b[0m \u001b[32m━━━━━━━━━━━━━━━━━━━━\u001b[0m\u001b[37m\u001b[0m \u001b[1m3s\u001b[0m 204ms/step - accuracy: 0.6795 - loss: 1.6528\n"
          ]
        },
        {
          "name": "stderr",
          "output_type": "stream",
          "text": [
            "WARNING:absl:You are saving your model as an HDF5 file via `model.save()` or `keras.saving.save_model(model)`. This file format is considered legacy. We recommend using instead the native Keras format, e.g. `model.save('my_model.keras')` or `keras.saving.save_model(model, 'my_model.keras')`. \n"
          ]
        },
        {
          "name": "stdout",
          "output_type": "stream",
          "text": [
            "Test loss: 1.664193034172058\n",
            "Test accuracy: 0.6725888252258301\n",
            "\u001b[1m13/13\u001b[0m \u001b[32m━━━━━━━━━━━━━━━━━━━━\u001b[0m\u001b[37m\u001b[0m \u001b[1m3s\u001b[0m 216ms/step\n",
            "              precision    recall  f1-score   support\n",
            "\n",
            "      glioma       0.26      0.07      0.11       100\n",
            "  meningioma       0.29      0.30      0.29       115\n",
            "    no_tumor       0.29      0.51      0.37       105\n",
            "   pituitary       0.15      0.12      0.13        74\n",
            "\n",
            "    accuracy                           0.26       394\n",
            "   macro avg       0.25      0.25      0.23       394\n",
            "weighted avg       0.25      0.26      0.24       394\n",
            "\n",
            "1-conv-32-nodes-2-dense-1732691913\n",
            "Epoch 1/20\n"
          ]
        },
        {
          "name": "stderr",
          "output_type": "stream",
          "text": [
            "/home/aishwaryakunche/.local/lib/python3.10/site-packages/keras/src/layers/convolutional/base_conv.py:107: UserWarning: Do not pass an `input_shape`/`input_dim` argument to a layer. When using Sequential models, prefer using an `Input(shape)` object as the first layer in the model instead.\n",
            "  super().__init__(activity_regularizer=activity_regularizer, **kwargs)\n"
          ]
        },
        {
          "name": "stdout",
          "output_type": "stream",
          "text": [
            "\u001b[1m90/90\u001b[0m \u001b[32m━━━━━━━━━━━━━━━━━━━━\u001b[0m\u001b[37m\u001b[0m \u001b[1m13s\u001b[0m 135ms/step - accuracy: 0.2819 - loss: 1.5224 - val_accuracy: 0.2538 - val_loss: 1.3928\n",
            "Epoch 2/20\n",
            "\u001b[1m90/90\u001b[0m \u001b[32m━━━━━━━━━━━━━━━━━━━━\u001b[0m\u001b[37m\u001b[0m \u001b[1m12s\u001b[0m 128ms/step - accuracy: 0.2942 - loss: 1.3626 - val_accuracy: 0.2538 - val_loss: 1.4047\n",
            "Epoch 3/20\n",
            "\u001b[1m90/90\u001b[0m \u001b[32m━━━━━━━━━━━━━━━━━━━━\u001b[0m\u001b[37m\u001b[0m \u001b[1m9s\u001b[0m 100ms/step - accuracy: 0.2968 - loss: 1.3557 - val_accuracy: 0.2538 - val_loss: 1.4144\n",
            "Epoch 4/20\n",
            "\u001b[1m90/90\u001b[0m \u001b[32m━━━━━━━━━━━━━━━━━━━━\u001b[0m\u001b[37m\u001b[0m \u001b[1m9s\u001b[0m 101ms/step - accuracy: 0.2693 - loss: 1.3530 - val_accuracy: 0.2538 - val_loss: 1.4226\n",
            "Epoch 5/20\n",
            "\u001b[1m90/90\u001b[0m \u001b[32m━━━━━━━━━━━━━━━━━━━━\u001b[0m\u001b[37m\u001b[0m \u001b[1m12s\u001b[0m 135ms/step - accuracy: 0.2754 - loss: 1.3570 - val_accuracy: 0.2538 - val_loss: 1.4308\n",
            "Epoch 5: early stopping\n",
            "\u001b[1m13/13\u001b[0m \u001b[32m━━━━━━━━━━━━━━━━━━━━\u001b[0m\u001b[37m\u001b[0m \u001b[1m1s\u001b[0m 43ms/step - accuracy: 0.2451 - loss: 1.4330\n"
          ]
        },
        {
          "name": "stderr",
          "output_type": "stream",
          "text": [
            "WARNING:absl:You are saving your model as an HDF5 file via `model.save()` or `keras.saving.save_model(model)`. This file format is considered legacy. We recommend using instead the native Keras format, e.g. `model.save('my_model.keras')` or `keras.saving.save_model(model, 'my_model.keras')`. \n"
          ]
        },
        {
          "name": "stdout",
          "output_type": "stream",
          "text": [
            "Test loss: 1.4307799339294434\n",
            "Test accuracy: 0.25380709767341614\n",
            "\u001b[1m13/13\u001b[0m \u001b[32m━━━━━━━━━━━━━━━━━━━━\u001b[0m\u001b[37m\u001b[0m \u001b[1m1s\u001b[0m 43ms/step\n",
            "              precision    recall  f1-score   support\n",
            "\n",
            "      glioma       0.25      1.00      0.40       100\n",
            "  meningioma       0.00      0.00      0.00       115\n",
            "    no_tumor       0.00      0.00      0.00       105\n",
            "   pituitary       0.00      0.00      0.00        74\n",
            "\n",
            "    accuracy                           0.25       394\n",
            "   macro avg       0.06      0.25      0.10       394\n",
            "weighted avg       0.06      0.25      0.10       394\n",
            "\n",
            "2-conv-32-nodes-2-dense-1732691971\n",
            "Epoch 1/20\n"
          ]
        },
        {
          "name": "stderr",
          "output_type": "stream",
          "text": [
            "/home/aishwaryakunche/.local/lib/python3.10/site-packages/sklearn/metrics/_classification.py:1471: UndefinedMetricWarning: Precision and F-score are ill-defined and being set to 0.0 in labels with no predicted samples. Use `zero_division` parameter to control this behavior.\n",
            "  _warn_prf(average, modifier, msg_start, len(result))\n",
            "/home/aishwaryakunche/.local/lib/python3.10/site-packages/sklearn/metrics/_classification.py:1471: UndefinedMetricWarning: Precision and F-score are ill-defined and being set to 0.0 in labels with no predicted samples. Use `zero_division` parameter to control this behavior.\n",
            "  _warn_prf(average, modifier, msg_start, len(result))\n",
            "/home/aishwaryakunche/.local/lib/python3.10/site-packages/sklearn/metrics/_classification.py:1471: UndefinedMetricWarning: Precision and F-score are ill-defined and being set to 0.0 in labels with no predicted samples. Use `zero_division` parameter to control this behavior.\n",
            "  _warn_prf(average, modifier, msg_start, len(result))\n",
            "/home/aishwaryakunche/.local/lib/python3.10/site-packages/keras/src/layers/convolutional/base_conv.py:107: UserWarning: Do not pass an `input_shape`/`input_dim` argument to a layer. When using Sequential models, prefer using an `Input(shape)` object as the first layer in the model instead.\n",
            "  super().__init__(activity_regularizer=activity_regularizer, **kwargs)\n"
          ]
        },
        {
          "name": "stdout",
          "output_type": "stream",
          "text": [
            "\u001b[1m90/90\u001b[0m \u001b[32m━━━━━━━━━━━━━━━━━━━━\u001b[0m\u001b[37m\u001b[0m \u001b[1m14s\u001b[0m 146ms/step - accuracy: 0.3004 - loss: 1.3996 - val_accuracy: 0.3858 - val_loss: 1.3297\n",
            "Epoch 2/20\n",
            "\u001b[1m90/90\u001b[0m \u001b[32m━━━━━━━━━━━━━━━━━━━━\u001b[0m\u001b[37m\u001b[0m \u001b[1m9s\u001b[0m 97ms/step - accuracy: 0.4694 - loss: 1.1248 - val_accuracy: 0.4416 - val_loss: 1.2106\n",
            "Epoch 3/20\n",
            "\u001b[1m90/90\u001b[0m \u001b[32m━━━━━━━━━━━━━━━━━━━━\u001b[0m\u001b[37m\u001b[0m \u001b[1m10s\u001b[0m 115ms/step - accuracy: 0.5995 - loss: 0.8991 - val_accuracy: 0.4924 - val_loss: 1.3041\n",
            "Epoch 4/20\n",
            "\u001b[1m90/90\u001b[0m \u001b[32m━━━━━━━━━━━━━━━━━━━━\u001b[0m\u001b[37m\u001b[0m \u001b[1m15s\u001b[0m 166ms/step - accuracy: 0.6493 - loss: 0.8027 - val_accuracy: 0.5203 - val_loss: 1.4472\n",
            "Epoch 5/20\n",
            "\u001b[1m90/90\u001b[0m \u001b[32m━━━━━━━━━━━━━━━━━━━━\u001b[0m\u001b[37m\u001b[0m \u001b[1m12s\u001b[0m 127ms/step - accuracy: 0.7119 - loss: 0.6738 - val_accuracy: 0.5863 - val_loss: 1.3716\n",
            "Epoch 5: early stopping\n",
            "\u001b[1m13/13\u001b[0m \u001b[32m━━━━━━━━━━━━━━━━━━━━\u001b[0m\u001b[37m\u001b[0m \u001b[1m0s\u001b[0m 32ms/step - accuracy: 0.5309 - loss: 1.4669\n"
          ]
        },
        {
          "name": "stderr",
          "output_type": "stream",
          "text": [
            "WARNING:absl:You are saving your model as an HDF5 file via `model.save()` or `keras.saving.save_model(model)`. This file format is considered legacy. We recommend using instead the native Keras format, e.g. `model.save('my_model.keras')` or `keras.saving.save_model(model, 'my_model.keras')`. \n"
          ]
        },
        {
          "name": "stdout",
          "output_type": "stream",
          "text": [
            "Test loss: 1.37160062789917\n",
            "Test accuracy: 0.586294412612915\n",
            "\u001b[1m13/13\u001b[0m \u001b[32m━━━━━━━━━━━━━━━━━━━━\u001b[0m\u001b[37m\u001b[0m \u001b[1m0s\u001b[0m 33ms/step\n",
            "              precision    recall  f1-score   support\n",
            "\n",
            "      glioma       0.17      0.04      0.06       100\n",
            "  meningioma       0.32      0.28      0.30       115\n",
            "    no_tumor       0.22      0.46      0.30       105\n",
            "   pituitary       0.17      0.12      0.14        74\n",
            "\n",
            "    accuracy                           0.24       394\n",
            "   macro avg       0.22      0.22      0.20       394\n",
            "weighted avg       0.23      0.24      0.21       394\n",
            "\n",
            "3-conv-32-nodes-2-dense-1732692032\n",
            "Epoch 1/20\n"
          ]
        },
        {
          "name": "stderr",
          "output_type": "stream",
          "text": [
            "/home/aishwaryakunche/.local/lib/python3.10/site-packages/keras/src/layers/convolutional/base_conv.py:107: UserWarning: Do not pass an `input_shape`/`input_dim` argument to a layer. When using Sequential models, prefer using an `Input(shape)` object as the first layer in the model instead.\n",
            "  super().__init__(activity_regularizer=activity_regularizer, **kwargs)\n"
          ]
        },
        {
          "name": "stdout",
          "output_type": "stream",
          "text": [
            "\u001b[1m90/90\u001b[0m \u001b[32m━━━━━━━━━━━━━━━━━━━━\u001b[0m\u001b[37m\u001b[0m \u001b[1m10s\u001b[0m 96ms/step - accuracy: 0.3045 - loss: 1.3731 - val_accuracy: 0.3376 - val_loss: 1.4451\n",
            "Epoch 2/20\n",
            "\u001b[1m90/90\u001b[0m \u001b[32m━━━━━━━━━━━━━━━━━━━━\u001b[0m\u001b[37m\u001b[0m \u001b[1m14s\u001b[0m 158ms/step - accuracy: 0.4186 - loss: 1.1744 - val_accuracy: 0.3655 - val_loss: 1.3856\n",
            "Epoch 3/20\n",
            "\u001b[1m90/90\u001b[0m \u001b[32m━━━━━━━━━━━━━━━━━━━━\u001b[0m\u001b[37m\u001b[0m \u001b[1m15s\u001b[0m 159ms/step - accuracy: 0.5723 - loss: 0.9499 - val_accuracy: 0.4822 - val_loss: 1.2754\n",
            "Epoch 4/20\n",
            "\u001b[1m90/90\u001b[0m \u001b[32m━━━━━━━━━━━━━━━━━━━━\u001b[0m\u001b[37m\u001b[0m \u001b[1m9s\u001b[0m 99ms/step - accuracy: 0.6402 - loss: 0.8394 - val_accuracy: 0.4492 - val_loss: 1.3958\n",
            "Epoch 5/20\n",
            "\u001b[1m90/90\u001b[0m \u001b[32m━━━━━━━━━━━━━━━━━━━━\u001b[0m\u001b[37m\u001b[0m \u001b[1m10s\u001b[0m 113ms/step - accuracy: 0.6909 - loss: 0.6970 - val_accuracy: 0.5203 - val_loss: 1.3676\n",
            "Epoch 5: early stopping\n",
            "\u001b[1m13/13\u001b[0m \u001b[32m━━━━━━━━━━━━━━━━━━━━\u001b[0m\u001b[37m\u001b[0m \u001b[1m1s\u001b[0m 50ms/step - accuracy: 0.5175 - loss: 1.3839\n"
          ]
        },
        {
          "name": "stderr",
          "output_type": "stream",
          "text": [
            "WARNING:absl:You are saving your model as an HDF5 file via `model.save()` or `keras.saving.save_model(model)`. This file format is considered legacy. We recommend using instead the native Keras format, e.g. `model.save('my_model.keras')` or `keras.saving.save_model(model, 'my_model.keras')`. \n"
          ]
        },
        {
          "name": "stdout",
          "output_type": "stream",
          "text": [
            "Test loss: 1.3675521612167358\n",
            "Test accuracy: 0.5203045606613159\n",
            "\u001b[1m13/13\u001b[0m \u001b[32m━━━━━━━━━━━━━━━━━━━━\u001b[0m\u001b[37m\u001b[0m \u001b[1m1s\u001b[0m 51ms/step\n",
            "              precision    recall  f1-score   support\n",
            "\n",
            "      glioma       0.20      0.11      0.14       100\n",
            "  meningioma       0.31      0.23      0.26       115\n",
            "    no_tumor       0.24      0.45      0.31       105\n",
            "   pituitary       0.15      0.12      0.14        74\n",
            "\n",
            "    accuracy                           0.24       394\n",
            "   macro avg       0.23      0.23      0.21       394\n",
            "weighted avg       0.23      0.24      0.22       394\n",
            "\n",
            "1-conv-64-nodes-2-dense-1732692092\n"
          ]
        },
        {
          "name": "stderr",
          "output_type": "stream",
          "text": [
            "/home/aishwaryakunche/.local/lib/python3.10/site-packages/keras/src/layers/convolutional/base_conv.py:107: UserWarning: Do not pass an `input_shape`/`input_dim` argument to a layer. When using Sequential models, prefer using an `Input(shape)` object as the first layer in the model instead.\n",
            "  super().__init__(activity_regularizer=activity_regularizer, **kwargs)\n"
          ]
        },
        {
          "name": "stdout",
          "output_type": "stream",
          "text": [
            "Epoch 1/20\n",
            "\u001b[1m90/90\u001b[0m \u001b[32m━━━━━━━━━━━━━━━━━━━━\u001b[0m\u001b[37m\u001b[0m \u001b[1m30s\u001b[0m 318ms/step - accuracy: 0.2953 - loss: 2.4685 - val_accuracy: 0.1954 - val_loss: 1.3911\n",
            "Epoch 2/20\n",
            "\u001b[1m90/90\u001b[0m \u001b[32m━━━━━━━━━━━━━━━━━━━━\u001b[0m\u001b[37m\u001b[0m \u001b[1m30s\u001b[0m 333ms/step - accuracy: 0.3305 - loss: 1.3295 - val_accuracy: 0.3680 - val_loss: 1.3222\n",
            "Epoch 3/20\n",
            "\u001b[1m90/90\u001b[0m \u001b[32m━━━━━━━━━━━━━━━━━━━━\u001b[0m\u001b[37m\u001b[0m \u001b[1m27s\u001b[0m 302ms/step - accuracy: 0.4253 - loss: 1.1870 - val_accuracy: 0.4797 - val_loss: 1.3279\n",
            "Epoch 4/20\n",
            "\u001b[1m90/90\u001b[0m \u001b[32m━━━━━━━━━━━━━━━━━━━━\u001b[0m\u001b[37m\u001b[0m \u001b[1m27s\u001b[0m 299ms/step - accuracy: 0.5912 - loss: 0.9985 - val_accuracy: 0.4137 - val_loss: 1.6888\n",
            "Epoch 5/20\n",
            "\u001b[1m90/90\u001b[0m \u001b[32m━━━━━━━━━━━━━━━━━━━━\u001b[0m\u001b[37m\u001b[0m \u001b[1m30s\u001b[0m 336ms/step - accuracy: 0.6788 - loss: 0.8597 - val_accuracy: 0.5533 - val_loss: 1.2464\n",
            "Epoch 5: early stopping\n",
            "\u001b[1m13/13\u001b[0m \u001b[32m━━━━━━━━━━━━━━━━━━━━\u001b[0m\u001b[37m\u001b[0m \u001b[1m2s\u001b[0m 107ms/step - accuracy: 0.5473 - loss: 1.2719\n"
          ]
        },
        {
          "name": "stderr",
          "output_type": "stream",
          "text": [
            "WARNING:absl:You are saving your model as an HDF5 file via `model.save()` or `keras.saving.save_model(model)`. This file format is considered legacy. We recommend using instead the native Keras format, e.g. `model.save('my_model.keras')` or `keras.saving.save_model(model, 'my_model.keras')`. \n"
          ]
        },
        {
          "name": "stdout",
          "output_type": "stream",
          "text": [
            "Test loss: 1.2463703155517578\n",
            "Test accuracy: 0.5532994866371155\n",
            "\u001b[1m13/13\u001b[0m \u001b[32m━━━━━━━━━━━━━━━━━━━━\u001b[0m\u001b[37m\u001b[0m \u001b[1m1s\u001b[0m 59ms/step\n",
            "              precision    recall  f1-score   support\n",
            "\n",
            "      glioma       0.32      0.11      0.16       100\n",
            "  meningioma       0.30      0.25      0.27       115\n",
            "    no_tumor       0.28      0.44      0.34       105\n",
            "   pituitary       0.20      0.26      0.22        74\n",
            "\n",
            "    accuracy                           0.27       394\n",
            "   macro avg       0.27      0.26      0.25       394\n",
            "weighted avg       0.28      0.27      0.25       394\n",
            "\n",
            "2-conv-64-nodes-2-dense-1732692239\n",
            "Epoch 1/20\n"
          ]
        },
        {
          "name": "stderr",
          "output_type": "stream",
          "text": [
            "/home/aishwaryakunche/.local/lib/python3.10/site-packages/keras/src/layers/convolutional/base_conv.py:107: UserWarning: Do not pass an `input_shape`/`input_dim` argument to a layer. When using Sequential models, prefer using an `Input(shape)` object as the first layer in the model instead.\n",
            "  super().__init__(activity_regularizer=activity_regularizer, **kwargs)\n"
          ]
        },
        {
          "name": "stdout",
          "output_type": "stream",
          "text": [
            "\u001b[1m90/90\u001b[0m \u001b[32m━━━━━━━━━━━━━━━━━━━━\u001b[0m\u001b[37m\u001b[0m \u001b[1m33s\u001b[0m 356ms/step - accuracy: 0.2955 - loss: 1.6633 - val_accuracy: 0.4213 - val_loss: 1.2767\n",
            "Epoch 2/20\n",
            "\u001b[1m90/90\u001b[0m \u001b[32m━━━━━━━━━━━━━━━━━━━━\u001b[0m\u001b[37m\u001b[0m \u001b[1m29s\u001b[0m 325ms/step - accuracy: 0.4953 - loss: 1.1605 - val_accuracy: 0.5178 - val_loss: 1.1721\n",
            "Epoch 3/20\n",
            "\u001b[1m90/90\u001b[0m \u001b[32m━━━━━━━━━━━━━━━━━━━━\u001b[0m\u001b[37m\u001b[0m \u001b[1m33s\u001b[0m 360ms/step - accuracy: 0.5932 - loss: 0.9292 - val_accuracy: 0.5609 - val_loss: 1.0683\n",
            "Epoch 4/20\n",
            "\u001b[1m90/90\u001b[0m \u001b[32m━━━━━━━━━━━━━━━━━━━━\u001b[0m\u001b[37m\u001b[0m \u001b[1m36s\u001b[0m 396ms/step - accuracy: 0.7018 - loss: 0.7056 - val_accuracy: 0.5482 - val_loss: 1.4564\n",
            "Epoch 5/20\n",
            "\u001b[1m90/90\u001b[0m \u001b[32m━━━━━━━━━━━━━━━━━━━━\u001b[0m\u001b[37m\u001b[0m \u001b[1m35s\u001b[0m 389ms/step - accuracy: 0.7635 - loss: 0.5908 - val_accuracy: 0.6751 - val_loss: 1.0740\n",
            "Epoch 5: early stopping\n",
            "\u001b[1m13/13\u001b[0m \u001b[32m━━━━━━━━━━━━━━━━━━━━\u001b[0m\u001b[37m\u001b[0m \u001b[1m1s\u001b[0m 89ms/step - accuracy: 0.6817 - loss: 1.1219\n"
          ]
        },
        {
          "name": "stderr",
          "output_type": "stream",
          "text": [
            "WARNING:absl:You are saving your model as an HDF5 file via `model.save()` or `keras.saving.save_model(model)`. This file format is considered legacy. We recommend using instead the native Keras format, e.g. `model.save('my_model.keras')` or `keras.saving.save_model(model, 'my_model.keras')`. \n"
          ]
        },
        {
          "name": "stdout",
          "output_type": "stream",
          "text": [
            "Test loss: 1.0739952325820923\n",
            "Test accuracy: 0.6751269102096558\n",
            "\u001b[1m13/13\u001b[0m \u001b[32m━━━━━━━━━━━━━━━━━━━━\u001b[0m\u001b[37m\u001b[0m \u001b[1m1s\u001b[0m 70ms/step\n",
            "              precision    recall  f1-score   support\n",
            "\n",
            "      glioma       0.17      0.04      0.06       100\n",
            "  meningioma       0.24      0.33      0.28       115\n",
            "    no_tumor       0.26      0.38      0.31       105\n",
            "   pituitary       0.18      0.14      0.15        74\n",
            "\n",
            "    accuracy                           0.23       394\n",
            "   macro avg       0.21      0.22      0.20       394\n",
            "weighted avg       0.21      0.23      0.21       394\n",
            "\n",
            "3-conv-64-nodes-2-dense-1732692407\n",
            "Epoch 1/20\n"
          ]
        },
        {
          "name": "stderr",
          "output_type": "stream",
          "text": [
            "/home/aishwaryakunche/.local/lib/python3.10/site-packages/keras/src/layers/convolutional/base_conv.py:107: UserWarning: Do not pass an `input_shape`/`input_dim` argument to a layer. When using Sequential models, prefer using an `Input(shape)` object as the first layer in the model instead.\n",
            "  super().__init__(activity_regularizer=activity_regularizer, **kwargs)\n"
          ]
        },
        {
          "name": "stdout",
          "output_type": "stream",
          "text": [
            "\u001b[1m90/90\u001b[0m \u001b[32m━━━━━━━━━━━━━━━━━━━━\u001b[0m\u001b[37m\u001b[0m \u001b[1m31s\u001b[0m 333ms/step - accuracy: 0.2737 - loss: 1.3840 - val_accuracy: 0.3452 - val_loss: 1.3477\n",
            "Epoch 2/20\n",
            "\u001b[1m90/90\u001b[0m \u001b[32m━━━━━━━━━━━━━━━━━━━━\u001b[0m\u001b[37m\u001b[0m \u001b[1m31s\u001b[0m 337ms/step - accuracy: 0.4648 - loss: 1.1430 - val_accuracy: 0.3858 - val_loss: 1.6425\n",
            "Epoch 3/20\n",
            "\u001b[1m90/90\u001b[0m \u001b[32m━━━━━━━━━━━━━━━━━━━━\u001b[0m\u001b[37m\u001b[0m \u001b[1m35s\u001b[0m 388ms/step - accuracy: 0.6059 - loss: 0.8995 - val_accuracy: 0.5228 - val_loss: 1.2021\n",
            "Epoch 4/20\n",
            "\u001b[1m90/90\u001b[0m \u001b[32m━━━━━━━━━━━━━━━━━━━━\u001b[0m\u001b[37m\u001b[0m \u001b[1m36s\u001b[0m 399ms/step - accuracy: 0.6627 - loss: 0.8075 - val_accuracy: 0.5102 - val_loss: 1.4460\n",
            "Epoch 5/20\n",
            "\u001b[1m90/90\u001b[0m \u001b[32m━━━━━━━━━━━━━━━━━━━━\u001b[0m\u001b[37m\u001b[0m \u001b[1m32s\u001b[0m 355ms/step - accuracy: 0.7351 - loss: 0.6456 - val_accuracy: 0.5584 - val_loss: 1.3665\n",
            "Epoch 5: early stopping\n",
            "\u001b[1m13/13\u001b[0m \u001b[32m━━━━━━━━━━━━━━━━━━━━\u001b[0m\u001b[37m\u001b[0m \u001b[1m1s\u001b[0m 77ms/step - accuracy: 0.5680 - loss: 1.3281\n"
          ]
        },
        {
          "name": "stderr",
          "output_type": "stream",
          "text": [
            "WARNING:absl:You are saving your model as an HDF5 file via `model.save()` or `keras.saving.save_model(model)`. This file format is considered legacy. We recommend using instead the native Keras format, e.g. `model.save('my_model.keras')` or `keras.saving.save_model(model, 'my_model.keras')`. \n"
          ]
        },
        {
          "name": "stdout",
          "output_type": "stream",
          "text": [
            "Test loss: 1.3664846420288086\n",
            "Test accuracy: 0.5583756566047668\n",
            "\u001b[1m13/13\u001b[0m \u001b[32m━━━━━━━━━━━━━━━━━━━━\u001b[0m\u001b[37m\u001b[0m \u001b[1m2s\u001b[0m 127ms/step\n",
            "              precision    recall  f1-score   support\n",
            "\n",
            "      glioma       0.19      0.08      0.11       100\n",
            "  meningioma       0.26      0.18      0.21       115\n",
            "    no_tumor       0.28      0.57      0.38       105\n",
            "   pituitary       0.22      0.18      0.20        74\n",
            "\n",
            "    accuracy                           0.26       394\n",
            "   macro avg       0.24      0.25      0.23       394\n",
            "weighted avg       0.24      0.26      0.23       394\n",
            "\n",
            "1-conv-128-nodes-2-dense-1732692574\n"
          ]
        },
        {
          "name": "stderr",
          "output_type": "stream",
          "text": [
            "/home/aishwaryakunche/.local/lib/python3.10/site-packages/keras/src/layers/convolutional/base_conv.py:107: UserWarning: Do not pass an `input_shape`/`input_dim` argument to a layer. When using Sequential models, prefer using an `Input(shape)` object as the first layer in the model instead.\n",
            "  super().__init__(activity_regularizer=activity_regularizer, **kwargs)\n"
          ]
        },
        {
          "name": "stdout",
          "output_type": "stream",
          "text": [
            "Epoch 1/20\n",
            "\u001b[1m90/90\u001b[0m \u001b[32m━━━━━━━━━━━━━━━━━━━━\u001b[0m\u001b[37m\u001b[0m \u001b[1m85s\u001b[0m 930ms/step - accuracy: 0.3248 - loss: 3.3851 - val_accuracy: 0.5533 - val_loss: 1.2374\n",
            "Epoch 2/20\n",
            "\u001b[1m90/90\u001b[0m \u001b[32m━━━━━━━━━━━━━━━━━━━━\u001b[0m\u001b[37m\u001b[0m \u001b[1m82s\u001b[0m 909ms/step - accuracy: 0.6602 - loss: 0.8228 - val_accuracy: 0.5685 - val_loss: 1.5035\n",
            "Epoch 3/20\n",
            "\u001b[1m90/90\u001b[0m \u001b[32m━━━━━━━━━━━━━━━━━━━━\u001b[0m\u001b[37m\u001b[0m \u001b[1m83s\u001b[0m 918ms/step - accuracy: 0.8094 - loss: 0.4963 - val_accuracy: 0.7132 - val_loss: 1.1373\n",
            "Epoch 4/20\n",
            "\u001b[1m90/90\u001b[0m \u001b[32m━━━━━━━━━━━━━━━━━━━━\u001b[0m\u001b[37m\u001b[0m \u001b[1m83s\u001b[0m 919ms/step - accuracy: 0.8667 - loss: 0.3540 - val_accuracy: 0.7284 - val_loss: 1.2376\n",
            "Epoch 5/20\n",
            "\u001b[1m90/90\u001b[0m \u001b[32m━━━━━━━━━━━━━━━━━━━━\u001b[0m\u001b[37m\u001b[0m \u001b[1m82s\u001b[0m 916ms/step - accuracy: 0.9114 - loss: 0.2499 - val_accuracy: 0.7030 - val_loss: 2.3745\n",
            "Epoch 5: early stopping\n",
            "\u001b[1m13/13\u001b[0m \u001b[32m━━━━━━━━━━━━━━━━━━━━\u001b[0m\u001b[37m\u001b[0m \u001b[1m3s\u001b[0m 196ms/step - accuracy: 0.6852 - loss: 2.5351\n"
          ]
        },
        {
          "name": "stderr",
          "output_type": "stream",
          "text": [
            "WARNING:absl:You are saving your model as an HDF5 file via `model.save()` or `keras.saving.save_model(model)`. This file format is considered legacy. We recommend using instead the native Keras format, e.g. `model.save('my_model.keras')` or `keras.saving.save_model(model, 'my_model.keras')`. \n"
          ]
        },
        {
          "name": "stdout",
          "output_type": "stream",
          "text": [
            "Test loss: 2.3744773864746094\n",
            "Test accuracy: 0.703045666217804\n",
            "\u001b[1m13/13\u001b[0m \u001b[32m━━━━━━━━━━━━━━━━━━━━\u001b[0m\u001b[37m\u001b[0m \u001b[1m1s\u001b[0m 102ms/step\n",
            "              precision    recall  f1-score   support\n",
            "\n",
            "      glioma       0.18      0.04      0.07       100\n",
            "  meningioma       0.28      0.39      0.33       115\n",
            "    no_tumor       0.28      0.45      0.35       105\n",
            "   pituitary       0.11      0.07      0.08        74\n",
            "\n",
            "    accuracy                           0.26       394\n",
            "   macro avg       0.21      0.24      0.21       394\n",
            "weighted avg       0.22      0.26      0.22       394\n",
            "\n",
            "2-conv-128-nodes-2-dense-1732692999\n",
            "Epoch 1/20\n"
          ]
        },
        {
          "name": "stderr",
          "output_type": "stream",
          "text": [
            "/home/aishwaryakunche/.local/lib/python3.10/site-packages/keras/src/layers/convolutional/base_conv.py:107: UserWarning: Do not pass an `input_shape`/`input_dim` argument to a layer. When using Sequential models, prefer using an `Input(shape)` object as the first layer in the model instead.\n",
            "  super().__init__(activity_regularizer=activity_regularizer, **kwargs)\n"
          ]
        },
        {
          "name": "stdout",
          "output_type": "stream",
          "text": [
            "\u001b[1m90/90\u001b[0m \u001b[32m━━━━━━━━━━━━━━━━━━━━\u001b[0m\u001b[37m\u001b[0m \u001b[1m111s\u001b[0m 1s/step - accuracy: 0.3138 - loss: 1.6224 - val_accuracy: 0.4010 - val_loss: 1.3452\n",
            "Epoch 2/20\n",
            "\u001b[1m90/90\u001b[0m \u001b[32m━━━━━━━━━━━━━━━━━━━━\u001b[0m\u001b[37m\u001b[0m \u001b[1m110s\u001b[0m 1s/step - accuracy: 0.6026 - loss: 0.9105 - val_accuracy: 0.4315 - val_loss: 1.6933\n",
            "Epoch 3/20\n",
            "\u001b[1m90/90\u001b[0m \u001b[32m━━━━━━━━━━━━━━━━━━━━\u001b[0m\u001b[37m\u001b[0m \u001b[1m113s\u001b[0m 1s/step - accuracy: 0.7018 - loss: 0.7085 - val_accuracy: 0.5406 - val_loss: 1.5694\n",
            "Epoch 4/20\n",
            "\u001b[1m90/90\u001b[0m \u001b[32m━━━━━━━━━━━━━━━━━━━━\u001b[0m\u001b[37m\u001b[0m \u001b[1m113s\u001b[0m 1s/step - accuracy: 0.7679 - loss: 0.5845 - val_accuracy: 0.6091 - val_loss: 1.5069\n",
            "Epoch 5/20\n",
            "\u001b[1m90/90\u001b[0m \u001b[32m━━━━━━━━━━━━━━━━━━━━\u001b[0m\u001b[37m\u001b[0m \u001b[1m116s\u001b[0m 1s/step - accuracy: 0.8160 - loss: 0.4686 - val_accuracy: 0.6269 - val_loss: 1.6350\n",
            "Epoch 5: early stopping\n",
            "\u001b[1m13/13\u001b[0m \u001b[32m━━━━━━━━━━━━━━━━━━━━\u001b[0m\u001b[37m\u001b[0m \u001b[1m5s\u001b[0m 410ms/step - accuracy: 0.6200 - loss: 1.6766\n"
          ]
        },
        {
          "name": "stderr",
          "output_type": "stream",
          "text": [
            "WARNING:absl:You are saving your model as an HDF5 file via `model.save()` or `keras.saving.save_model(model)`. This file format is considered legacy. We recommend using instead the native Keras format, e.g. `model.save('my_model.keras')` or `keras.saving.save_model(model, 'my_model.keras')`. \n"
          ]
        },
        {
          "name": "stdout",
          "output_type": "stream",
          "text": [
            "Test loss: 1.6350417137145996\n",
            "Test accuracy: 0.6269035339355469\n",
            "\u001b[1m13/13\u001b[0m \u001b[32m━━━━━━━━━━━━━━━━━━━━\u001b[0m\u001b[37m\u001b[0m \u001b[1m5s\u001b[0m 337ms/step\n",
            "              precision    recall  f1-score   support\n",
            "\n",
            "      glioma       0.33      0.09      0.14       100\n",
            "  meningioma       0.30      0.35      0.32       115\n",
            "    no_tumor       0.27      0.49      0.34       105\n",
            "   pituitary       0.15      0.08      0.10        74\n",
            "\n",
            "    accuracy                           0.27       394\n",
            "   macro avg       0.26      0.25      0.23       394\n",
            "weighted avg       0.27      0.27      0.24       394\n",
            "\n",
            "3-conv-128-nodes-2-dense-1732693572\n"
          ]
        },
        {
          "name": "stderr",
          "output_type": "stream",
          "text": [
            "/home/aishwaryakunche/.local/lib/python3.10/site-packages/keras/src/layers/convolutional/base_conv.py:107: UserWarning: Do not pass an `input_shape`/`input_dim` argument to a layer. When using Sequential models, prefer using an `Input(shape)` object as the first layer in the model instead.\n",
            "  super().__init__(activity_regularizer=activity_regularizer, **kwargs)\n"
          ]
        },
        {
          "name": "stdout",
          "output_type": "stream",
          "text": [
            "Epoch 1/20\n",
            "\u001b[1m90/90\u001b[0m \u001b[32m━━━━━━━━━━━━━━━━━━━━\u001b[0m\u001b[37m\u001b[0m \u001b[1m100s\u001b[0m 1s/step - accuracy: 0.2946 - loss: 1.3968 - val_accuracy: 0.4061 - val_loss: 1.3706\n",
            "Epoch 2/20\n",
            "\u001b[1m90/90\u001b[0m \u001b[32m━━━━━━━━━━━━━━━━━━━━\u001b[0m\u001b[37m\u001b[0m \u001b[1m91s\u001b[0m 1s/step - accuracy: 0.4760 - loss: 1.1655 - val_accuracy: 0.4188 - val_loss: 1.4917\n",
            "Epoch 3/20\n",
            "\u001b[1m90/90\u001b[0m \u001b[32m━━━━━━━━━━━━━━━━━━━━\u001b[0m\u001b[37m\u001b[0m \u001b[1m89s\u001b[0m 993ms/step - accuracy: 0.6791 - loss: 0.7796 - val_accuracy: 0.4340 - val_loss: 1.5192\n",
            "Epoch 4/20\n",
            "\u001b[1m90/90\u001b[0m \u001b[32m━━━━━━━━━━━━━━━━━━━━\u001b[0m\u001b[37m\u001b[0m \u001b[1m90s\u001b[0m 999ms/step - accuracy: 0.7055 - loss: 0.6873 - val_accuracy: 0.4670 - val_loss: 1.9151\n",
            "Epoch 5/20\n",
            "\u001b[1m90/90\u001b[0m \u001b[32m━━━━━━━━━━━━━━━━━━━━\u001b[0m\u001b[37m\u001b[0m \u001b[1m90s\u001b[0m 994ms/step - accuracy: 0.7768 - loss: 0.5509 - val_accuracy: 0.4975 - val_loss: 1.4455\n",
            "Epoch 5: early stopping\n",
            "\u001b[1m13/13\u001b[0m \u001b[32m━━━━━━━━━━━━━━━━━━━━\u001b[0m\u001b[37m\u001b[0m \u001b[1m3s\u001b[0m 205ms/step - accuracy: 0.4591 - loss: 1.6121\n"
          ]
        },
        {
          "name": "stderr",
          "output_type": "stream",
          "text": [
            "WARNING:absl:You are saving your model as an HDF5 file via `model.save()` or `keras.saving.save_model(model)`. This file format is considered legacy. We recommend using instead the native Keras format, e.g. `model.save('my_model.keras')` or `keras.saving.save_model(model, 'my_model.keras')`. \n"
          ]
        },
        {
          "name": "stdout",
          "output_type": "stream",
          "text": [
            "Test loss: 1.445491075515747\n",
            "Test accuracy: 0.4974619150161743\n",
            "\u001b[1m13/13\u001b[0m \u001b[32m━━━━━━━━━━━━━━━━━━━━\u001b[0m\u001b[37m\u001b[0m \u001b[1m3s\u001b[0m 209ms/step\n",
            "              precision    recall  f1-score   support\n",
            "\n",
            "      glioma       0.24      0.08      0.12       100\n",
            "  meningioma       0.17      0.07      0.10       115\n",
            "    no_tumor       0.26      0.56      0.36       105\n",
            "   pituitary       0.21      0.26      0.23        74\n",
            "\n",
            "    accuracy                           0.24       394\n",
            "   macro avg       0.22      0.24      0.20       394\n",
            "weighted avg       0.22      0.24      0.20       394\n",
            "\n"
          ]
        }
      ],
      "source": [
        "dense_layers = [0, 1, 2]\n",
        "layer_sizes = [32, 64, 128]\n",
        "conv_layers = [1, 2, 3]\n",
        "\n",
        "for dense_layer in dense_layers:\n",
        "    for layer_size in layer_sizes:\n",
        "        for conv_layer in conv_layers:\n",
        "            NAME = f\"{conv_layer}-conv-{layer_size}-nodes-{dense_layer}-dense-{int(time.time())}\"\n",
        "            print(NAME)\n",
        "\n",
        "            model = Sequential()\n",
        "\n",
        "            model.add(Conv2D(layer_size, (3, 3), input_shape=(IMG_HEIGHT, IMG_WIDTH, 3)))\n",
        "            model.add(Activation('relu'))\n",
        "            model.add(MaxPooling2D(pool_size=(2, 2)))\n",
        "\n",
        "            for _ in range(conv_layer - 1):\n",
        "                model.add(Conv2D(layer_size, (3, 3)))\n",
        "                model.add(Activation('relu'))\n",
        "                model.add(MaxPooling2D(pool_size=(2, 2)))\n",
        "\n",
        "            model.add(Flatten())\n",
        "            for _ in range(dense_layer):\n",
        "                model.add(Dense(layer_size))\n",
        "                model.add(Activation('relu'))\n",
        "                model.add(Dropout(0.33))\n",
        "\n",
        "            model.add(Dense(4))  # 4 classes present in the dataset: glioma, meningioma, no_tumor, pituitary\n",
        "            model.add(Activation('softmax'))\n",
        "\n",
        "            model.compile(\n",
        "                loss='sparse_categorical_crossentropy',\n",
        "                optimizer='adam',\n",
        "                metrics=['accuracy']\n",
        "            )\n",
        "\n",
        "            # Train the model\n",
        "            model.fit(\n",
        "                train_generator,\n",
        "                epochs=20,\n",
        "                validation_data=test_generator,\n",
        "                callbacks=[tensorboard, es]\n",
        "            )\n",
        "\n",
        "            # Evaluate the model\n",
        "            scores = model.evaluate(test_generator, verbose=1)\n",
        "            print('Test loss:', scores[0])\n",
        "            print('Test accuracy:', scores[1])\n",
        "\n",
        "            # Save the model\n",
        "            model.save(f\"{NAME}-model-{scores[1]:.2f}-accuracy.h5\")\n",
        "\n",
        "            # Precision, recall, F1-score\n",
        "            y_pred = model.predict(test_generator, verbose=1)\n",
        "            y_pred_bool = np.argmax(y_pred, axis=1)\n",
        "            print(classification_report(test_generator.classes, y_pred_bool, target_names=test_generator.class_indices.keys()))\n"
      ]
    },
    {
      "cell_type": "code",
      "execution_count": null,
      "id": "46371f77-d029-4b5d-a2c4-23c4766132fe",
      "metadata": {
        "id": "46371f77-d029-4b5d-a2c4-23c4766132fe"
      },
      "outputs": [],
      "source": []
    }
  ],
  "metadata": {
    "kernelspec": {
      "display_name": "Python 3 (ipykernel)",
      "language": "python",
      "name": "python3"
    },
    "language_info": {
      "codemirror_mode": {
        "name": "ipython",
        "version": 3
      },
      "file_extension": ".py",
      "mimetype": "text/x-python",
      "name": "python",
      "nbconvert_exporter": "python",
      "pygments_lexer": "ipython3",
      "version": "3.10.12"
    },
    "colab": {
      "provenance": []
    }
  },
  "nbformat": 4,
  "nbformat_minor": 5
}